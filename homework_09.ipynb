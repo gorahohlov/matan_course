{
 "cells": [
  {
   "cell_type": "markdown",
   "id": "f667bb71",
   "metadata": {},
   "source": [
    "### 1. __Найти__ $\\frac{dz}{dt}$, **если** $z=z(x;y),\\ x=x(t),\\ y=y(t):$"
   ]
  },
  {
   "cell_type": "markdown",
   "id": "c236b159",
   "metadata": {},
   "source": [
    "##### 1) $$z=x^2+y^2+xy,\\quad x=a\\sin{t},\\quad y=a\\cos{t};$$"
   ]
  },
  {
   "cell_type": "markdown",
   "id": "e5050a35",
   "metadata": {},
   "source": [
    "Мы имеем случай где z - сложная функция от одной независимой переменной t и двумя промежуточными переменными - x, y;\n",
    "\n",
    "Решение: $$\\mathbf{\\frac{dz}{dt}}=\\frac{\\partial z}{\\partial x} \\cdot \\frac{dx}{dt} + \\frac{\\partial z}{\\partial y} \\cdot \\frac{dy}{dt}=(2x+y) \\cdot a \\cos{t} - (2y+x) \\cdot a\\sin{t}=2ax\\cos{t}+ay\\cos{t}-2ay\\sin{t}-ax\\sin{t}=ax(2\\cos{t}-\\sin{t})+ay(\\cos{t}-2\\sin{t});$$"
   ]
  },
  {
   "cell_type": "markdown",
   "id": "0dcfcc45",
   "metadata": {},
   "source": [
    "##### 2) $$z=x^2y^3u,\\quad x=t,\\quad y=t^2,\\quad u=\\sin{t};$$"
   ]
  },
  {
   "cell_type": "markdown",
   "id": "a671130a",
   "metadata": {},
   "source": [
    "Здесь также z - сложная функция одной независимой переменной (t) и трех промежуточных переменных x, y, u;\n",
    "\n",
    "Решение: $$\\frac{dz}{dt}=\\frac{\\partial z}{\\partial x} \\cdot \\frac{dx}{dt} + \\frac{\\partial z}{\\partial y} \\cdot \\frac{dy}{dt} + \\frac{\\partial z}{\\partial u} \\cdot \\frac{du}{dt} = 2y^3ux \\cdot 1 + 3x^2uy^2 \\cdot 2t + x^2y^3 \\cdot \\cos{t}=xy^2(2yu+3xu+xy\\cos{t});$$"
   ]
  },
  {
   "cell_type": "markdown",
   "id": "33f07296",
   "metadata": {},
   "source": [
    "### 2. __Для данных__ $z=f(x;y),\\ x=x(u;v),\\ y=y(u;v)$ __найти__ $\\frac{\\partial z}{\\partial u},\\ \\frac{\\partial z}{\\partial v},\\ dz;$"
   ]
  },
  {
   "cell_type": "markdown",
   "id": "51d7a06b",
   "metadata": {},
   "source": [
    "##### 1) $z=x^3+y^3,\\;$ где $x=u \\cdot v,\\; y=\\frac{u}{v};$"
   ]
  },
  {
   "cell_type": "markdown",
   "id": "ffb81bdb",
   "metadata": {},
   "source": [
    "Имеем случай сложнойфункции; $z$ - сложная функция двух независимых переменных $u$ и $v$, где переменные $x, y$ промежуточные переменные $z$; Требуется найти частные производные по $u$ и $v$, а также полный дифференциал $z$.\n",
    "\n",
    "Решение: \n",
    "$$\\mathbf{\\frac{\\partial z}{\\partial u}}=\\frac{\\partial z}{\\partial x} \\cdot \\frac{\\partial x}{\\partial u} + \\frac{\\partial z}{\\partial y} \\cdot \\frac{\\partial y}{\\partial u}=3x^2 \\cdot v + \\frac{3y^2}{v};$$\n",
    "\n",
    "$$\\mathbf{\\frac{dz}{dv}}=\\frac{\\partial z}{\\partial x} \\cdot \\frac{\\partial x}{\\partial v}+ \\frac{\\partial z}{\\partial y} \\cdot \\frac{\\partial y}{\\partial v}=3x^2 \\cdot u + 3y^2 \\cdot \\frac{-u}{v^2}=3x^2u - \\frac{3y^3}{v};$$\n",
    "\n",
    "$$\\mathbf{dz} = \\frac{\\partial z}{\\partial x} \\cdot dx + \\frac{\\partial z}{\\partial y} \\cdot dy = \\frac{\\partial z}{\\partial x} \\Big(\\frac{\\partial x}{\\partial u} \\cdot du + \\frac{\\partial x}{\\partial v} \\cdot dv\\Big) + \\frac{\\partial z}{\\partial y} \\Big(\\frac{\\partial y}{\\partial u} du + \\frac{\\partial y}{\\partial v} dv\\Big)=\\\\ 3x^2 \\big( v+u\\big) + 3y^2 \\bigg( \\frac{1}{v} - \\frac{u}{v^2} \\bigg)=3x^2 \\big( v+u\\big) + 3y^2 \\bigg( \\frac{v-u}{v^2} \\bigg);$$"
   ]
  },
  {
   "cell_type": "markdown",
   "id": "3d05f889",
   "metadata": {},
   "source": [
    "##### 2) $$z=\\cos{xy},\\quad x=ue^v,\\quad y=v\\ln{u};$$"
   ]
  },
  {
   "cell_type": "markdown",
   "id": "8475221d",
   "metadata": {},
   "source": [
    "$$\\mathbf{\\frac{dz}{du}}=-\\sin{xy}\\cdot y \\cdot e^v + -\\sin{xy}\\cdot x \\cdot \\frac{v}{u}=-\\sin{xy}\\cdot \\Big(ye^v + \\frac{xv}{u}\\Big);$$\n",
    "\n",
    "$$\\mathbf{\\frac{dz}{dv}}= -\\sin{xy}\\cdot y \\cdot ue^v + -\\sin{xy}\\cdot x\\cdot \\ln{u}= -\\sin{xy} (yue^v + x\\ln{u});$$\n",
    "\n",
    "$$\\mathbf{dz}= -\\sin{xy}\\cdot y \\cdot \\Big( e^v + ue^v\\Big) + -\\sin{xy} \\cdot x \\cdot \\Big( \\frac{v}{u} + \\ln{u}\\Big) =\\\\ -\\sin{xy}\\cdot y\\cdot e^v(1+u) - \\sin{xy}\\cdot x \\cdot \\Big(\\frac{v+u\\cdot \\ln{u}}{u}\\Big);$$"
   ]
  },
  {
   "cell_type": "markdown",
   "id": "eecc2d6e",
   "metadata": {},
   "source": [
    "### __3. Найти производные $y'(x)$ неявных функций заданных уравнениями:__"
   ]
  },
  {
   "cell_type": "markdown",
   "id": "9cfc01be",
   "metadata": {},
   "source": [
    "##### $$xe^{2y}-y\\ln{x}=8;$$"
   ]
  },
  {
   "cell_type": "markdown",
   "id": "4eadb812",
   "metadata": {},
   "source": [
    "Я в некотором замешательстве. Прям совсем недавно, как сейчас помню на 6-м занятии мы научились считать \n",
    "> производную неявной функции $y=y(x)$, заданную неявно уравнением $F(x,y)=0$\n",
    "\n",
    "считаем такую производную незамысловатым способом:\n",
    "> производную находим продифференцировав уравнение (считая $y$ функцией от $x$) и разрешаем уравнение относительно $y'$\n",
    "\n",
    "Таким образом получаем:\n",
    "\n",
    "$$e^{2y} + xe^{2y}\\cdot 2y' -\\frac{y}{x} - \\ln{x}\\cdot y' - 0 = 0\\quad \\Rightarrow \\\\ e^{2y}-\\frac{y}{x}=\\ln{x}\\cdot y' - xe^{2y}\\cdot 2y' \\Rightarrow \\\\ y'=\\frac{e^{2y}-\\frac{y}{x}}{\\ln{x}-2xe^{2y}}$$\n",
    "\n",
    "Логично."
   ]
  },
  {
   "cell_type": "markdown",
   "id": "741e881c",
   "metadata": {},
   "source": [
    "Но неожиданно в 9 уроке есть новая формула:\n",
    "\n",
    "$$y'=\\frac{dy}{dx}=-\\frac{F_x'(x;y)}{F_y'(x;y)};$$\n",
    "\n",
    "применим её\n",
    "\n",
    "$$F_x'=e^{2y} - \\frac{y}{x}, \\\\ F_y'=2xe^{2y}-\\ln{x}, \\\\ y_x'=\\frac{dy}{dx}=-\\frac{e^{2y} - \\frac{y}{x}}{2xe^{2y}-\\ln{x}}=\\frac{e^{2y} - \\frac{y}{x}}{\\ln{x}-2xe^{2y}};$$"
   ]
  },
  {
   "cell_type": "markdown",
   "id": "a94412c8",
   "metadata": {},
   "source": [
    "Ответы совпадают. Так все и задумано?"
   ]
  },
  {
   "cell_type": "markdown",
   "id": "4c5257cb",
   "metadata": {},
   "source": [
    "### __4. Составить уравнение касательной прямой и нормали к кривой $y=y(x)$, заданной уравнением $F(x;y)$ в точке $M_0(x_0;y_0)$:__"
   ]
  },
  {
   "cell_type": "markdown",
   "id": "6f5fb5fd",
   "metadata": {},
   "source": [
    "##### 1) $$x^3y-y^3x=6,\\ M_0(2;1).$$"
   ]
  },
  {
   "cell_type": "markdown",
   "id": "e9f51fd3",
   "metadata": {},
   "source": [
    "уравнение касательной имеет вид: $y-y_0=f_x'(x_0;y_0)(x-x_0);$\n",
    "\n",
    "$$f_x'(x_0;y_0)=-\\frac{F_x'}{F_y'},\\quad (F_y'\\neq 0);$$\n",
    "$$F_x'=3x^2y-y^3;\\quad F_y'=x^3-3y^2x;\\quad f_x'(2;1)=-\\frac{3x^2y-y^3}{x^3-3y^2x}=-\\frac{3\\cdot2^2\\cdot1-1^3}{2^3-3\\cdot 1^2\\cdot 2}=-\\frac{11}{2};$$\n",
    "\n",
    "Уравение искомой прямой (касательной):\n",
    "$$y-1=-\\frac{11}{2}(x-2)=-5.5x+11;\\quad \\Rightarrow \\quad y=-\\frac{11}{2}x+12;$$\n",
    "\n",
    "Уравение нормали:\n",
    "если угол наклона касательной - $\\alpha$, то угол наклона нормали к касательной: $(\\pi-(\\frac{\\pi}{2}-\\alpha))=(\\frac{\\pi}{2}+\\alpha)$ отсюда следует что коэффициент $k_1$ уравнения нормале равен $k_1 = \\tan(\\frac{\\pi}{2}+\\alpha)=-\\cot \\alpha=-\\cot(\\arctan(k)),$ где $k$ это коэффициент наклона касательной.\n",
    "\n",
    "Учитывая что нормаль проходит через точку $M_0(x_0;y_0)=M_0(2;1)$ свободный параметр уравнения нормали $b=y_0+\\cot(\\arctan(k))\\cdot x_0 = 1+\\cot(\\arctan((-5.5))\\cdot 2=1-\\frac{2}{11}\\cdot2=\\frac{7}{11};$\n",
    "\n",
    "Уравнение нормали выглядит следующим образом:\n",
    "$$y=\\frac{2}{11}x+\\frac{7}{11};$$"
   ]
  },
  {
   "cell_type": "markdown",
   "id": "5a2073eb",
   "metadata": {},
   "source": [
    "### __5. Для данных функций найти требуемую частную производную и дифференциал:__"
   ]
  },
  {
   "cell_type": "markdown",
   "id": "3a8c66a5",
   "metadata": {},
   "source": [
    "##### 1) $$z=\\sin{x}\\sin{y},\\quad d^2z$$"
   ]
  },
  {
   "cell_type": "markdown",
   "id": "c7a506b0",
   "metadata": {},
   "source": [
    "Требуется вычислить полный дифференциал второго порядка, вычислим сначала дифференциал первого порядка:\n",
    "$$dz=\\Big(\\frac{\\partial z}{\\partial x} dx + \\frac{\\partial z}{\\partial y} dy\\Big)=\\sin{y}\\cos{x}+\\sin{x}\\cos{y};$$\n",
    "\n"
   ]
  },
  {
   "cell_type": "markdown",
   "id": "a7f37672",
   "metadata": {},
   "source": [
    "$$d^2z=d(dz)=d(\\sin{y}\\cos{x}+\\sin{x}\\cos{y})=(\\sin{y}\\cos{x}+\\sin{x}\\cos{y})'dx + (\\sin{y}\\cos{x}+\\sin{x}\\cos{y})'dy=\\sin{y}\\cdot-\\sin{x}+\\cos{y}\\cdot\\cos{x}+\\cos{x}\\cdot\\cos{y}+\\sin{x}\\cdot-\\sin{y} = 2\\cos{(x+y)};$$ "
   ]
  },
  {
   "cell_type": "markdown",
   "id": "be500b7d",
   "metadata": {},
   "source": [
    "проверим себя использовав формулу для частных производных:\n",
    "$$\\frac{\\partial^2 z}{\\partial x^2}dx^2 = (\\sin{y}\\cos{x})'\\cdot dx = -\\sin{y}\\sin{x};$$\n",
    "$$\\frac{\\partial^2 z}{\\partial y^2}dy^2 = (\\sin{x}\\cos{y})'\\cdot dy = -\\sin{x}\\sin{y};$$\n",
    "$$2\\frac{\\partial^2 z}{\\partial x \\partial y}dxdy = 2(\\sin{y}\\cos{x})'\\cdot dy = 2\\cos{x}\\cos{y};$$\n",
    "$$d^2z = -\\sin{y}\\sin{x} + 2\\cos{x}\\cos{y} -\\sin{x}\\sin{y} = 2\\cos{(x+y)};$$"
   ]
  },
  {
   "cell_type": "markdown",
   "id": "a32798fe",
   "metadata": {},
   "source": [
    "##### 2) $$z=xy+\\sin{(x+y)},\\quad \\frac{\\partial^2 z}{\\partial x^2};$$"
   ]
  },
  {
   "cell_type": "markdown",
   "id": "6a365f0a",
   "metadata": {},
   "source": [
    "Требуется найти частную производную по $x$ второго порядка.\n",
    "$$\\frac{\\partial z}{\\partial x} = y+\\cos{(x+y)};$$\n",
    "$$\\frac{\\partial^2 z}{\\partial x^2} = d_x\\bigg(\\frac{\\partial z}{\\partial x}\\bigg)=\\bigg(\\frac{\\partial z}{\\partial x}\\bigg)'dx=-\\sin{(x+y)};$$"
   ]
  },
  {
   "cell_type": "markdown",
   "id": "36d7d30e",
   "metadata": {},
   "source": [
    "##### 3) $$z=\\arctan{\\frac{x+y}{1-xy}},\\quad \\frac{\\partial^2z}{\\partial x \\partial y}$$"
   ]
  },
  {
   "cell_type": "markdown",
   "id": "8edae2b7",
   "metadata": {},
   "source": [
    "Требуется найти смешанную частную производную второго порядка.\n",
    "\n",
    "$$\\frac{\\partial z}{\\partial x} = \\frac{(1-xy)^2}{1+x^2+y^2+(xy)^2}\\cdot\\frac{1-xy-(x+y)(-y)}{(1-xy)^2} =\\\\ \\frac{(1-xy)^2}{(1+y^2)(1+x^2)}\\cdot\\frac{1+y^2}{(1-xy)^2} = \\frac{1}{1+x^2};$$\n",
    "\n",
    "$$\\frac{\\partial^2z}{\\partial x \\partial y} = d_y\\bigg(\\frac{\\partial z}{\\partial x}\\bigg) = \\bigg(\\frac{\\partial z}{\\partial x}\\bigg)'dy=0;$$"
   ]
  },
  {
   "cell_type": "markdown",
   "id": "3b51db03",
   "metadata": {},
   "source": [
    "### __6. Найти $y', y'', y'''$ для неявно заданной функции $y=y(x)$, заданной неявно уравнением $x^2-xy+2y^2+x-y=1$ при $x=0$, если $y(0)=1$.__"
   ]
  },
  {
   "cell_type": "markdown",
   "id": "457aa3fb",
   "metadata": {},
   "source": [
    "$$y'=-\\frac{F_x'}{F_y'}=-\\frac{2x-y+1}{-x+4y-1}=\\frac{2x-y+1}{x-4y+1};$$"
   ]
  },
  {
   "cell_type": "markdown",
   "id": "ee65651a",
   "metadata": {},
   "source": [
    "Проверим:\n",
    "$$y'=2x+(-y-xy')+4yy'+1-y'=0,\\quad 2x-y+1-y'(x-4y+1)=0,\\quad y'=\\frac{2x-y+1}{x-4y+1};$$\n",
    "Ok/"
   ]
  },
  {
   "cell_type": "markdown",
   "id": "81127313",
   "metadata": {},
   "source": [
    "$$y'(x_0;y_0)=y'\\big(x_0;y(x_0)\\big)=y'(0;1)=\\frac{2\\cdot0-1+1}{0-4\\cdot1+1}=\\frac{0}{-3}=0;$$\n",
    "\n",
    "Касательная к графику функции F(x,y) в этой точке паралельна оси абцисс."
   ]
  },
  {
   "cell_type": "markdown",
   "id": "ad2e7018",
   "metadata": {},
   "source": [
    "идем далее\n",
    "$$y''=(y')'=\\bigg(-\\frac{F_x'}{F_y'}\\bigg)'=\\frac{F_x'F_y''-F_x''F_y'}{(F_y')^2}=\\bigg(\\frac{+4(2x-y+1)-2(-x+4y-1)}{(4y-x-1)^2}\\bigg)=\\bigg(\\frac{8x+2x-8y-4y+4+2=10x-12y+6}{(4y-x-1)^2}\\bigg)=\\frac{10x-12y+6}{(4y-x-1)^2};$$\n",
    "\n",
    "$$y''(0;1)=\\frac{0-12+6}{(4-0-1)^2}=\\frac{-6}{9}=-\\frac{2}{3}$$"
   ]
  },
  {
   "cell_type": "markdown",
   "id": "c74610b1",
   "metadata": {},
   "source": [
    "Проверим:\n",
    "$$y''=\\bigg(\\frac{2x-y+1}{x-4y+1}\\bigg)'=\\bigg(\\frac{(2-y')(x-4y+1)-(1-4y')(2x-y+1)}{(x-4y+1)^2}\\bigg)=\\bigg(\\frac{2x-8y+2-xy'+4yy'-y'-2x+y-1+8xy'-4yy'+4y'}{(x-4y+1)^2)}\\bigg)=\\bigg(\\frac{2x-2x-8y+y+2-1-xy'+4yy'-y'+8xy'-4yy'+4y'}{(x-4y+1)^2}\\bigg)=\\bigg(\\frac{1-7y+y'(8x-x+4y-4y+4-1=7x+3)}{(x-4y+1)^2}\\bigg)=\\bigg(\\frac{y'(7x+3)-(7y-1)}{(x-4y+1)^2}\\bigg)$$\n",
    "$$y''(x_0;y_0)=y''\\big(x_0;y(x_0)\\big)=y''(0;1)=\\frac{0\\cdot(0(0+3)-(7-1)}{(0-4+1)^2}=\\frac{-6}{9}=-\\frac{2}{3};$$\n",
    "Ok/"
   ]
  },
  {
   "cell_type": "markdown",
   "id": "96464f6e",
   "metadata": {},
   "source": [
    "идем далее:\n",
    "$$y'''=\\bigg(\\frac{F_x'F_y''-F_x''F_y'}{(F_y')^2}\\bigg)'$$"
   ]
  },
  {
   "cell_type": "markdown",
   "id": "54dea0cd",
   "metadata": {},
   "source": [
    "$$y'''=\\frac{\\big(F_x''F_y''+F_x'F_y'''-F_x'''F_y'-F_x''F_y'')\\cdot(F_y')^2-2F_y'F_y''\\cdot(F_x'F_y''-F_x''F_y')\\big)}{(F_y')^4}$$"
   ]
  },
  {
   "cell_type": "markdown",
   "id": "dd1f80b5",
   "metadata": {},
   "source": [
    "$$F_x'=2x-y+1;\\quad F_x'(0;1)=0;$$\n",
    "$$F_y'=4y-x-1;\\quad F_y'(0;1)=3,\\quad \\big(F_y'(0;1)\\big)^2=9,\\quad \\big(F_y'(0;1)\\big)^4=81;$$\n",
    "$$F_x''=2;\\quad F_x''(0;1)=2;$$\n",
    "$$F_y''=4;\\quad F_y''(0;1)=4;$$\n",
    "$$F_x'''=0;\\quad F_x'''(0;1)=0;$$\n",
    "$$F_y'''=0;\\quad F_y'''(0;1)=0;$$"
   ]
  },
  {
   "cell_type": "markdown",
   "id": "792b4493",
   "metadata": {},
   "source": [
    "$$y'''=\\frac{(8+0-0-8)(4y-x-1)^2-2(4y-x-1)\\cdot4\\cdot(8x-4y+4-8y+2x+2)}{(4y-x-1)^4}=\\\\ \\frac{-16(5x-6y+3)}{(4y-x-1)^3}=\\frac{-16(-6+3)}{3^3}=\\frac{48}{27}=\\frac{16}{9};$$"
   ]
  },
  {
   "cell_type": "markdown",
   "id": "e00c240b",
   "metadata": {},
   "source": [
    "проверим подставляя сразу значнения $F_x',F_x'',F_x''',,,$\n",
    "$$\\frac{(8+0\\cdot0-0\\cdot3-2\\cdot4)\\cdot9-2\\cdot3\\cdot4\\cdot(0\\cdot4-2\\cdot3)}{81}=\\frac{2^4\\cdot3^2}{3^4}=\\frac{16}{9};$$\n",
    "ok/"
   ]
  },
  {
   "cell_type": "markdown",
   "id": "deea1aed",
   "metadata": {},
   "source": [
    "### __7. Для функции $z=\\arctan(\\frac{y}{x})$ построить линии уровня и градиент. Сравнить их направления в точках $(1;1), (1;-1)$__"
   ]
  },
  {
   "cell_type": "markdown",
   "id": "4308815c",
   "metadata": {},
   "source": [
    "Градиент это вектор, координаты которого вычисляется как значения частных производных по x и по y; Вычислим эти частные производные, чтобы \"иметь формулу\" градиента в общем виде:\n",
    "\n",
    "$$\\frac{\\partial z}{\\partial x} = \\frac{1}{1+\\big(\\frac{y}{x}\\big)^2}\\cdot \\frac{-y}{x^2}= \\frac{-y}{x^2+y^2};$$\n",
    "$$\\frac{\\partial z}{\\partial y}=\\frac{x^2}{x^2+y^2}\\cdot \\frac{1}{x}=\\frac{x}{x^2+y^2};$$"
   ]
  },
  {
   "cell_type": "markdown",
   "id": "28f3ea2c",
   "metadata": {},
   "source": [
    "$$\\nabla_z = \\Big(\\frac{-y}{x^2+y^2};\\frac{x}{x^2+y^2}\\Big)$$\n",
    "$$\\nabla_z\\Big|_{(1;1)}=\\Big(-\\frac{1}{2};\\frac{1}{2}\\Big)$$\n",
    "$$\\nabla_z\\Big|_{(1;-1)}=\\Big(\\frac{1}{2};\\frac{1}{2}\\Big)$$\n",
    "Длина вектора градиента в этих точках одинакова и равна $\\frac{\\sqrt{2}}{2}=\\frac{1}{\\sqrt{2}}$, а направление различается на величину $\\frac{\\pi}{2}$:\n",
    "$$\\alpha_1=\\arccos\\Big(-\\frac{1}{2}\\div \\frac{1}{\\sqrt{2}}\\Big)=\\arccos\\Big(-\\frac{\\sqrt{2}}{2}\\Big)=\\frac{3\\pi}{4};$$\n",
    "$$\\alpha_2=\\arccos\\Big(\\frac{1}{2}\\div \\frac{1}{\\sqrt{2}}\\Big)=\\arccos\\Big(\\frac{\\sqrt{2}}{2}\\Big)=\\frac{\\pi}{4};$$\n",
    "$$\\alpha_1-\\alpha_2=\\frac{3\\pi}{4}-\\frac{\\pi}{4}=\\frac{\\pi}{2};$$"
   ]
  },
  {
   "cell_type": "markdown",
   "id": "60bb6f1d",
   "metadata": {},
   "source": [
    "вычислим значение уровня в этих точках:\n",
    "$$z\\Big|_{(1;1)}=\\arctan(1)=\\frac{\\pi}{4};$$\n",
    "$$z\\Big|_{(1;-1)}=\\arctan(-1)=-\\frac{\\pi}{4};$$"
   ]
  }
 ],
 "metadata": {
  "kernelspec": {
   "display_name": "Python 3 (ipykernel)",
   "language": "python",
   "name": "python3"
  },
  "language_info": {
   "codemirror_mode": {
    "name": "ipython",
    "version": 3
   },
   "file_extension": ".py",
   "mimetype": "text/x-python",
   "name": "python",
   "nbconvert_exporter": "python",
   "pygments_lexer": "ipython3",
   "version": "3.9.4"
  }
 },
 "nbformat": 4,
 "nbformat_minor": 5
}
