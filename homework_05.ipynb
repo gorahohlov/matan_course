{
 "cells": [
  {
   "cell_type": "raw",
   "id": "1cb37932",
   "metadata": {},
   "source": [
    "Практическое задание к уроку 5:"
   ]
  },
  {
   "cell_type": "markdown",
   "id": "69b6517c",
   "metadata": {},
   "source": [
    "### 1. Найти пределы:"
   ]
  },
  {
   "cell_type": "markdown",
   "id": "561188dc",
   "metadata": {},
   "source": [
    "##### 1. $$\\lim_{x\\to\\infty}\\big(ln(x+3)-ln(x)\\big)$$"
   ]
  },
  {
   "cell_type": "markdown",
   "id": "c71bd7bc",
   "metadata": {},
   "source": [
    "Преобразуем выражение основываясь на свойствах логарифмов: логарифм частного есть разность логарифмов, имеем:\n",
    "$$\\lim_{x\\to\\infty}\\big(\\ln(\\frac{x+3}{x})\\big)=\\lim_{x\\to\\infty}\\big(\\ln(1+\\frac{3}{x})\\big);$$\n",
    "\n",
    "выражение $\\big(1+\\frac{3}{x}\\big)\\to 1$, при $x\\to\\infty$; \n",
    "\n",
    "выполним замену: $t=\\big(1+\\frac{3}{x}\\big)$, $t\\to 1$, если $x\\to\\infty$ имеем:\n",
    "\n",
    "$$\\lim_{t\\to1}\\ln(t)=0$$"
   ]
  },
  {
   "cell_type": "markdown",
   "id": "1e5d8e7f",
   "metadata": {},
   "source": [
    "##### 2. $$\\lim_{x\\to0}\\frac{\\ln(1+2x)}{\\arcsin3x}$$"
   ]
  },
  {
   "cell_type": "markdown",
   "id": "fb737418",
   "metadata": {},
   "source": [
    "Используем \"формулы\" эквивалентности при $x\\to0$:\n",
    "\n",
    "$$\\lim_{x\\to0}\\frac{\\ln(1+2x)}{\\arcsin3x}=\\lim_{x\\to0}\\frac{2x+o(2x)}{3x+o(3x)}=\\lim_{x\\to0}\\frac{2x+2\\cdot o(x)}{\\arcsin3x}=\\frac{2}{3}\\lim_{x\\to0}\\frac{3x}{\\arcsin3x};$$ \n",
    "\n",
    "выполним замену: $\\arcsin3x=t \\Rightarrow \\sin t=3x$, при $x\\to0, t\\to0,$ по свойству первого замечательного предела имеем:\n",
    "\n",
    "$$\\frac{2}{3}\\lim_{t\\to0}\\frac{\\sin t}{t}=\\frac{2}{3};$$"
   ]
  },
  {
   "cell_type": "markdown",
   "id": "1f0cc45c",
   "metadata": {},
   "source": [
    "##### 3. $$\\lim_{x\\to0}\\frac{7^x-1}{3^x-1}$$"
   ]
  },
  {
   "cell_type": "markdown",
   "id": "a02b5c77",
   "metadata": {},
   "source": [
    "воспользуемся формулами эквиватентности:\n",
    "\n",
    "$$\\lim_{x\\to0}\\frac{7^x-1}{3^x-1}=\\lim_{x\\to0}\\frac{1+x\\ln7+o(x)-1}{1+x\\ln3+o(x)-1}=\\frac{\\ln7}{\\ln3};$$"
   ]
  },
  {
   "cell_type": "markdown",
   "id": "fb6fccc9",
   "metadata": {},
   "source": [
    "##### 4. $$\\lim_{a\\to0}\\frac{(x+a)^3-x^3}{a}$$"
   ]
  },
  {
   "cell_type": "markdown",
   "id": "c124745b",
   "metadata": {},
   "source": [
    "Первое выполним замену \"a\" на \"x\", чтобы не запутаться.\n",
    "\n",
    "$$\\lim_{x\\to0}\\frac{(a+x)^3-a^3}{x}$$\n",
    "\n",
    "имеем неопределенность $\\Big[\\frac{0}{0}\\Big]$\n",
    "\n",
    "$$\\lim_{x\\to0}\\frac{(a+x)^3-a^3}{x}=\\lim_{x\\to0}\\frac{a^3(1+\\frac{x}{a})^3-a^3}{x}=\\lim_{x\\to0}\\frac{a^3\\big((1+\\frac{x}{a})^3-1\\big)}{x}=a^3\\lim_{x\\to0}\\frac{(1+\\frac{3x}{a}+o(x)-1)}{x}=a^3\\lim_{x\\to0}\\frac{\\frac{3x}{a}}{x}=a^3\\cdot\\frac{3}{a}=3a^2$$"
   ]
  },
  {
   "cell_type": "markdown",
   "id": "435cfd76",
   "metadata": {},
   "source": [
    "##### 5. $$\\lim_{x\\to\\infty}\\Big(\\frac{x^3}{5x^2+1}-\\frac{x^2}{5x-3}\\Big)$$"
   ]
  },
  {
   "cell_type": "markdown",
   "id": "efb86c9e",
   "metadata": {},
   "source": [
    "$$\\lim_{x\\to\\infty}\\Big(\\frac{x^3}{5x^2+1}-\\frac{x^2}{5x-3}\\Big)=\\lim_{x\\to\\infty}\\Big(\\frac{5x^4-3x^3-5x^4-x^2}{25x^3-15x^2+5x-3}\\Big)=-\\lim_{x\\to\\infty}\\Big(\\frac{3x^3+x^2}{25x^3-15x^2+5x-3}\\Big)$$\n",
    "\n",
    "разделим на $x^3$\n",
    "\n",
    "$$-\\lim_{x\\to\\infty}\\Bigg(\\frac{3+\\frac{1}{x}}{\\frac{25}{1}-\\frac{15}{x}+\\frac{5}{x^2}-\\frac{3}{x^3}}\\Bigg)=-\\frac{3}{25};$$"
   ]
  },
  {
   "cell_type": "markdown",
   "id": "b8b5b12b",
   "metadata": {},
   "source": [
    "##### 6. $$\\lim_{x\\to0}\\frac{1-\\cos4x}{2x\\cdot\\tan2x}$$"
   ]
  },
  {
   "cell_type": "markdown",
   "id": "dc0543e7",
   "metadata": {},
   "source": [
    "воспользуемся формулами эквивалентности:\n",
    "\n",
    "$$\\lim_{x\\to0}\\frac{1-\\cos4x}{2x\\cdot\\tan2x}=\\lim_{x\\to0}\\frac{1-\\big(1-\\frac{16x^2}{2}+o(x^2)\\big)}{2x\\cdot(2x+2\\cdot o(x))}=\\lim_{x\\to0}\\frac{1-1+8x^2-o(x^2)}{4x^2+4x\\cdot o(x)}=\\lim_{x\\to0}\\frac{8x^2-o(x^2)}{4(x^2+o(x^2))}=\\frac{8x^2}{4x^2}=2;$$"
   ]
  },
  {
   "cell_type": "markdown",
   "id": "473e0c69",
   "metadata": {},
   "source": [
    "##### 7. $$\\lim_{x\\to\\infty}\\Big(x\\cdot \\sin\\frac{2}{x}\\Big)$$"
   ]
  },
  {
   "cell_type": "markdown",
   "id": "ad0d9ce9",
   "metadata": {},
   "source": [
    "выполним замену: $t=\\frac{2}{x}, x=\\frac{2}{t};$ при $x\\to\\infty, t\\to 0;$\n",
    "\n",
    "$$\\lim_{x\\to\\infty}\\Big(x\\cdot\\sin\\frac{2}{x}\\Big)=\\lim_{t\\to0}\\Big(\\frac{2}{t}\\cdot\\sin t\\Big)=2\\lim_{t\\to0}\\frac{\\sin t}{t}=2;$$"
   ]
  },
  {
   "cell_type": "markdown",
   "id": "b35e7415",
   "metadata": {},
   "source": [
    "##### 8. $$\\lim_{x\\to0}\\Big(1+\\tan x\\Big)^{\\cot x}$$"
   ]
  },
  {
   "cell_type": "markdown",
   "id": "19390647",
   "metadata": {},
   "source": [
    "$$\\lim_{x\\to0}\\Big(1+\\tan x\\Big)^{\\cot x}=\\lim_{x\\to0}\\Big(1+\\tan x\\Big)^{\\frac{1}{\\tan x}}$$\n",
    "\n",
    "выполним замену: $\\tan x = t$, при $x\\to0, \\tan x\\to0 \\Rightarrow t\\to0;$ имеем\n",
    "\n",
    "$$\\lim_{t\\to0}\\big(1+t\\big)^{\\frac{1}{t}}=e$$"
   ]
  },
  {
   "cell_type": "markdown",
   "id": "5debd636",
   "metadata": {},
   "source": [
    "##### 9. $$\\lim_{x\\to0}\\big(\\cos2x\\big)^{\\frac{1}{\\sin^2x}}$$"
   ]
  },
  {
   "cell_type": "markdown",
   "id": "427b35ac",
   "metadata": {},
   "source": [
    "$$\\cos2x=\\cos^2x-\\sin^2x=1-2\\sin^2x;$$\n",
    "$$\\lim_{x\\to0}\\big(\\cos2x\\big)^{\\frac{1}{\\sin^2x}}=\\lim_{x\\to0}\\big(1-2\\sin^2x\\big)^{\\frac{1}{\\sin^2x}}$$\n",
    "выполним замену: $\\sin^2x=t$ при $x\\to0: \\sin^2x\\to0 \\Rightarrow t\\to0$ имеем:\n",
    "$$\\lim_{t\\to0}\\big(1-2t\\big)^{\\frac{1}{t}}$$\n",
    "\n",
    "на основании свойств логарифмов выражение: $\\big(1-2t\\big)^{\\frac{1}{t}}$ эквивалентно выражению: $$e^{\\ln((1-2t)^{\\frac{1}{t}})}=exp\\Big(\\frac{1}{t}\\cdot \\ln(1-2t)\\Big)$$\n",
    "далее\n",
    "$$\\lim_{x\\to0}exp\\Big(\\frac{1}{t}\\cdot \\ln(1-2t)\\Big)=\\lim_{x\\to0}exp\\Big(\\frac{1}{t}\\cdot \\big(-2t+o(-2t)\\big)\\Big)=\\lim_{x\\to0}exp\\Big(\\frac{-2t}{t}\\Big)=exp(-2)=e^{-2}=\\frac{1}{e^2};$$"
   ]
  },
  {
   "cell_type": "markdown",
   "id": "2b6f16c7",
   "metadata": {},
   "source": [
    "##### 10. $$\\lim_{x\\to0}\\Bigg(\\frac{\\sqrt{1+x\\sin x}-1}{x^2}\\Bigg)$$"
   ]
  },
  {
   "cell_type": "markdown",
   "id": "a9cac79c",
   "metadata": {},
   "source": [
    "$$\\lim_{x\\to0}\\Bigg(\\frac{\\sqrt{1+x\\sin x}-1}{x^2}\\Bigg)=\\lim_{x\\to0}\\Bigg(\\frac{1+x\\sin x -1^2}{x^2\\sqrt{1+x\\sin x}+x^2}\\Bigg)=\\lim_{x\\to0}\\Bigg(\\frac{\\sin x}{x\\big(\\sqrt{1+x\\sin x}+1\\big)}\\Bigg)=\\lim_{x\\to0}\\Bigg(\\frac{x+o(x)}{x\\big(\\sqrt{1+x\\sin x}+1\\big)}\\Bigg)=\\lim_{x\\to0}\\Bigg(\\frac{1}{\\sqrt{1+x\\sin x}+1}\\Bigg)=\\lim_{x\\to0}\\frac{1}{\\sqrt{1}+1}=\\frac{1}{2};$$"
   ]
  },
  {
   "cell_type": "markdown",
   "id": "9cb1965f",
   "metadata": {},
   "source": [
    "### __2. Установить характер разрывы функции в точке__ $x_0$:"
   ]
  },
  {
   "cell_type": "markdown",
   "id": "6d519e34",
   "metadata": {},
   "source": [
    "##### 1. $$f(x)=\\frac{x^2-16}{x+4}, x_0=-4;$$"
   ]
  },
  {
   "cell_type": "markdown",
   "id": "d9cedabb",
   "metadata": {},
   "source": [
    "$f(x)$ не определена в точке $x_0=-4$ посчитаем пределы слева и справа в точке $x_0=-4$ $$\\lim_{x\\to-4}f(x)$$\n",
    "$$\\lim_{x\\to-4\\pm0}f(x)=\\lim_{x\\to-4\\pm0}\\frac{x^2-16}{x+4}=\\lim_{x\\to-4\\pm0}\\frac{(x-4)(x+4)}{(x+4)}=\\lim_{x\\to-4\\pm0}(x-4)=-8$$\n",
    "пределы слева и справа существуют, и они равны между собой (значение: -8)\n",
    "\n",
    "\n",
    "__Вывод: функция $f(x)$ имеет устранимый разрыв первого рода. Чтобы его устранить нужно доопределить функция в этой точке - произвольно назначить ей какое-либо значение.__"
   ]
  },
  {
   "cell_type": "markdown",
   "id": "1c70d83a",
   "metadata": {},
   "source": [
    "##### 2. $$f(x)=\\frac{\\sin x}{x}, x_0=0$$"
   ]
  },
  {
   "cell_type": "markdown",
   "id": "59918b19",
   "metadata": {},
   "source": [
    "$$\\lim_{x\\to0}\\frac{\\sin x}{x}=1;$$\n",
    "\n",
    "$f(x)$ не определена в точке $x_0=0$; \n",
    "\n",
    "функции ($\\sin x$) и ($x$) - нечетные, произведение или частное двух нечетных функций даёт четную функцию; четные функции симметричны относительно оси ординат, стало быть наша $f(x)$ стремится слева и справа от $x_0$ одинаково - к 1;\n",
    "\n",
    "__Вывод: $f(x)$ имеет устранимый разрыв первого рода в точке $x_0=0$__"
   ]
  },
  {
   "cell_type": "markdown",
   "id": "5fc35dc4",
   "metadata": {},
   "source": [
    "### __3. Исследовать на непрерывность функцию $f(x)$ в точке $x_0$:__"
   ]
  },
  {
   "cell_type": "markdown",
   "id": "71c775fb",
   "metadata": {},
   "source": [
    "##### 1. $$f(x)=\\arctan\\frac{2}{x-1}, x_0=1;$$"
   ]
  },
  {
   "cell_type": "markdown",
   "id": "72cbc0aa",
   "metadata": {},
   "source": [
    "вычислим пределе $f(x)$ при $x\\to1$:\n",
    "\n",
    "\n",
    "$\\lim_{x\\to1}\\arctan\\frac{2}{x-1}$, выполним замену $\\frac{2}{x-1}$ на t,\n",
    "\n",
    "$$\\lim_{x\\to1-0}\\frac{2}{x-1}=-\\infty, \\lim_{x\\to1+0}\\frac{2}{x-1}=+\\infty;$$\n",
    "$$\\lim_{t\\to-\\infty}\\arctan t=-\\frac{\\pi}{2}, \\lim_{t\\to+\\infty}\\arctan t=+\\frac{\\pi}{2};$$\n",
    "\n",
    "__Вывод: пределы слева и справа существуют и они разные. $f(x)$ имеет в точке $x_0$ - неустранимый разрыв 1-го рода (со скачком в этой точке); Скачок функции равен: $\\frac{\\pi}{2}-\\big(-\\frac{\\pi}{2}\\big)=\\pi$__"
   ]
  },
  {
   "cell_type": "markdown",
   "id": "d19a441f",
   "metadata": {},
   "source": [
    "##### 2. $$f(x)=\\frac{1}{2^{x-3}-1}, \\,x_0=3.$$"
   ]
  },
  {
   "cell_type": "markdown",
   "id": "88096f3e",
   "metadata": {},
   "source": [
    "вычислим предел:\n",
    "$$\\lim_{x\\to3}\\bigg(\\frac{1}{2^{x-3}-1}\\bigg)$$\n",
    "выполним замену переменных: $x-3=t, \\lim_{x\\to3}(x-3)=0 \\Rightarrow t\\to0$\n",
    "$$\\lim_{x\\to3}\\bigg(\\frac{1}{2^{x-3}-1}\\bigg)=\\lim_{t\\to0}\\bigg(\\frac{1}{2^t-1}\\bigg)=\\lim_{t\\to0}\\frac{1}{1+t\\ln2+o(t)-1}=\\lim_{t\\to0}\\frac{1}{t\\ln2}=\\frac{1}{\\ln2}\\lim_{t\\to\\pm0}\\bigg(\\frac{1}{t}\\bigg)=\\pm\\infty;$$\n",
    "\n",
    "__Вывод: оба предела (слева и справа) не существуют (не конечны); $f(x)$ имеет в точке $x_0=3$ разрыва 2-го рода!__"
   ]
  }
 ],
 "metadata": {
  "kernelspec": {
   "display_name": "Python 3 (ipykernel)",
   "language": "python",
   "name": "python3"
  },
  "language_info": {
   "codemirror_mode": {
    "name": "ipython",
    "version": 3
   },
   "file_extension": ".py",
   "mimetype": "text/x-python",
   "name": "python",
   "nbconvert_exporter": "python",
   "pygments_lexer": "ipython3",
   "version": "3.9.4"
  }
 },
 "nbformat": 4,
 "nbformat_minor": 5
}
