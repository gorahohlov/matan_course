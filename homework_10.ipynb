{
 "cells": [
  {
   "cell_type": "markdown",
   "id": "64981562",
   "metadata": {},
   "source": [
    "### 1) Найти интегралы:"
   ]
  },
  {
   "cell_type": "markdown",
   "id": "c7ecb904",
   "metadata": {},
   "source": [
    "#####  1. $$\\int\\frac{x^4+x^2-6x}{x^3}dx;$$"
   ]
  },
  {
   "cell_type": "markdown",
   "id": "e4d152dd",
   "metadata": {},
   "source": [
    "$$\\int\\frac{x^4+x^2-6x}{x^3}dx=\\int x\\cdot dx+\\int \\frac{dx}{x}-6\\int x^{-2}dx=\\frac{x^2}{2}+\\ln|x|+6\\frac{1}{x}+C;$$"
   ]
  },
  {
   "cell_type": "markdown",
   "id": "558c827e",
   "metadata": {},
   "source": [
    "##### 2. $$\\int \\cos{2x} dx;$$"
   ]
  },
  {
   "cell_type": "markdown",
   "id": "15995904",
   "metadata": {},
   "source": [
    "Можно воспользоваться формулой $\\int f(ax+b)dx=\\frac{1}{a}F(ax+b)+c,\\;a\\neq 0;$\n",
    "$$\\int \\cos{2x} dx=\\frac{1}{2} \\sin{2x} + conts;$$\n",
    "а можно воспользоваться подстановкой:\n",
    "$$\\int \\cos{2x} dx=\\Bigg|u=2x, du=2dx, dx=\\frac{du}{2}\\Bigg|=\\frac{1}{2}\\int \\cos{u}du=\\frac{1}{2}\\sin{2x}+const;$$"
   ]
  },
  {
   "cell_type": "markdown",
   "id": "c0a80a6a",
   "metadata": {},
   "source": [
    "##### 3. $$\\int \\frac{dx}{(3x+2)^4};$$"
   ]
  },
  {
   "cell_type": "markdown",
   "id": "d0aac2df",
   "metadata": {},
   "source": [
    "$$\\int \\frac{dx}{(3x+2)^4}=\\frac{1}{3}\\int\\frac{(3x+2)^{-4+1}}{-4+1}=-\\frac{1}{9(3x+2)^3}+const;$$"
   ]
  },
  {
   "cell_type": "markdown",
   "id": "71a3a8eb",
   "metadata": {},
   "source": [
    "##### 4. $$\\int\\frac{5x-1}{\\sqrt{4-x^2}} dx;$$"
   ]
  },
  {
   "cell_type": "markdown",
   "id": "b7bfa787",
   "metadata": {},
   "source": [
    "$$\\int\\frac{5x-1}{\\sqrt{4-x^2}} dx= \\int\\frac{5x}{\\sqrt{4-x^2}} dx - \\int\\frac{dx}{\\sqrt{4-x^2}} = \\Bigg|\\;u=4-x^2,\\; du=-2x\\cdot dx,\\; dx=\\frac{du}{-2x}\\;\\Bigg|=\\\\ \\frac{5}{-2}\\int \\frac{du}{\\sqrt{u}} - \\int\\frac{dx}{\\sqrt{4-x^2}} = \\frac{5\\cdot 2}{-2}\\sqrt{4-x^2}-\\arcsin{\\frac{x}{2}}+c = -5\\sqrt{4-x^2}-\\arcsin{\\frac{x}{2}}+const;$$"
   ]
  },
  {
   "cell_type": "markdown",
   "id": "575d41e9",
   "metadata": {},
   "source": [
    "##### 5. $$\\int \\frac{dx}{\\sqrt{x}\\big(1+\\sqrt{x}\\big)};$$"
   ]
  },
  {
   "cell_type": "markdown",
   "id": "c5ab40d5",
   "metadata": {},
   "source": [
    "$$\\int \\frac{dx}{\\sqrt{x}\\big(1+\\sqrt{x}\\big)} = \\int \\frac{dx}{\\sqrt{x}+x}=\\Bigg|\\;\\sqrt{x}=t,\\; dt=\\frac{dx}{2\\sqrt{x}},\\; dx=2t\\ dt\\; \\Bigg| = \\\\ \\int \\frac{2t\\ dt}{t(1+t)} = 2 \\int \\frac{dt}{(1+t)} = 2\\cdot \\ln{|1+\\sqrt{x}|} + const;$$"
   ]
  },
  {
   "cell_type": "markdown",
   "id": "72095b74",
   "metadata": {},
   "source": [
    "##### 6. $$\\int x^2 \\cos{x}\\,dx;$$"
   ]
  },
  {
   "cell_type": "markdown",
   "id": "cbfd1a2d",
   "metadata": {},
   "source": [
    "$$\\int x^2 \\cos{x}\\,dx = \\Bigg|\\; x^2=u,\\; du=2x\\ dx,\\; dv=\\cos{x}dx,\\; v=\\sin{x}\\; \\Bigg|=x^2\\sin{x}-\\int\\sin{x}\\cdot 2x\\ dx = \\\\ =\\Bigg|\\; u=2x,\\; du=2\\ dx,\\; dv=\\sin{x}\\ dx,\\; v=-\\cos{x}\\; \\Bigg| = \\\\ =x^2\\sin{x} + 2x\\cos{x} + 2\\int-\\cos{x}\\ dx=x^2\\sin{x}+2x\\cos{x}-2\\sin{x}+const;$$"
   ]
  },
  {
   "cell_type": "markdown",
   "id": "420c0b71",
   "metadata": {},
   "source": [
    "##### 7. $$\\int \\arctan{x}\\ dx;$$"
   ]
  },
  {
   "cell_type": "markdown",
   "id": "2bc9ea75",
   "metadata": {},
   "source": [
    "$$\\int \\arctan{x}\\ dx = \\Bigg|\\; u=\\arctan{x},\\; du=\\frac{dx}{1+x^2},\\; dv=dx,\\; v=x\\; \\Bigg| = x\\cdot \\arctan{x} - \\int \\frac{x\\ dx}{1+x^2} = \\\\ =\\Bigg|\\; (1+x^2)=t,\\; dt=2x\\ dx,\\; x\\ dx = \\frac{dt}{2}\\Bigg| = x\\cdot \\arctan{x} - \\frac{1}{2}\\int \\frac{dt}{t} = x\\cdot \\arctan{x} - \\frac{1}{2}\\cdot \\ln{(1+x^2)}+const;$$"
   ]
  },
  {
   "cell_type": "markdown",
   "id": "dce20649",
   "metadata": {},
   "source": [
    "##### 8. $$\\int \\frac{dx}{(x-1)^5};$$"
   ]
  },
  {
   "cell_type": "markdown",
   "id": "dcfcaf0a",
   "metadata": {},
   "source": [
    "$$\\int \\frac{dx}{(x-1)^5} = \\Bigg|\\; (x-1)=t,\\; dt=dx, \\Bigg| = \\int \\frac{dt}{t^5} = -\\frac{t^{-4}}{4} = -\\frac{1}{4(x-1)^4} + const;$$"
   ]
  },
  {
   "cell_type": "markdown",
   "id": "72918ce3",
   "metadata": {},
   "source": [
    "##### 9. $$\\int \\frac{(x+6)dx}{x^2-2x+17};$$"
   ]
  },
  {
   "cell_type": "markdown",
   "id": "ab57f71c",
   "metadata": {},
   "source": [
    "$$\\int \\frac{(x+6)dx}{x^2-2x+17} = \\Bigg|\\; u=x^2-2x+17,\\; du=2(x-1)dx,\\; \\Bigg| = \\int \\frac{(x-1)+7}{x^2-2x+17}dx = \\int frac{(x-1)dx}{x^2-2x+17} + 7\\int\\frac{dx}{(x-1)^2+16} = \\\\ =\\frac{1}{2}\\ln{|x^2-2x+17|} + \\frac{7}{4}\\arctan\\frac{x-1}{4}+const;$$"
   ]
  },
  {
   "cell_type": "markdown",
   "id": "a5299b43",
   "metadata": {},
   "source": [
    "##### 10. $$\\int \\frac{x\\ dx}{(x^2-1)(x^2+1)};$$ "
   ]
  },
  {
   "cell_type": "markdown",
   "id": "e5172989",
   "metadata": {},
   "source": [
    "$$\\int \\frac{x\\ dx}{(x^2-1)(x^2+1)} = \\Bigg|\\; x^2=t,\\; dt=2x\\ dx,\\; (t-1)(t+1)=t^2-1\\; \\Bigg| = \\frac{1}{2}\\int \\frac{dt}{t^2-1} = \\frac{1}{2}\\cdot \\frac{1}{2} \\ln\\Bigg|\\frac{t-1}{t+1}\\Bigg| = \\frac{1}{4}\\ln\\Bigg|\\frac{x^2-1}{x^2+1}\\Bigg| + const;$$ "
   ]
  },
  {
   "cell_type": "markdown",
   "id": "91f3ed9a",
   "metadata": {},
   "source": [
    "##### 11. $$\\int \\frac{\\sqrt[3]{x}\\ dx}{\\sqrt[3]{x^2}-\\sqrt{x}};$$"
   ]
  },
  {
   "cell_type": "markdown",
   "id": "56a26694",
   "metadata": {},
   "source": [
    "$$\\int \\frac{\\sqrt[3]{x}\\ dx}{\\sqrt[3]{x^2}-\\sqrt{x}} = \\int \\frac{x^{\\frac{1}{3}}\\ dx}{(x^{\\frac{1}{3}})^2-x^{\\frac{1}{2}}} = \\Bigg|\\; t=x^{\\frac{1}{6}},\\; dt=\\frac{1}{6}\\cdot x^{\\frac{-5}{6}}\\ dx = \\frac{1}{6}\\cdot t^{-5}\\ dx \n",
    ",\\; 6t^5dt=dx\\; \\Bigg| = \\\\ = 6\\int \\frac{t^2\\cdot t^5\\cdot dt}{t^4-t^3} = 6\\int \\frac{t^4\\ dt}{t-1} = 6\\int \\frac{(t-1)(t+1)(t^2+1)+1\\ dt}{t-1} = 6\\int (t^3+t^2+t+1)\\ dt + 6\\int \\frac{dt}{t-1} = \\frac{6t^4}{4}+\\frac{6t^3}{3}+\\frac{6t^2}{2}+\\frac{6t}{1} + 6\\ln{|t-1|} +const;$$\n",
    "или Разделим столбиком числитель на знаменатель: получится $(t^3+t^2+t+1)$ целая часть, и \"$+1$\" остаток.\n",
    "$$6\\int \\frac{t^4\\ dt}{t-1} = 6\\int (t^3+t^2+t+1)dt + 6\\int \\frac{dt}{t-1} = \\frac{3t^4}{2} + \\frac{2t^3}{1} + \\frac{3t^2}{1} + 6t + 6\\ln{|t-1| + const;} = \\\\ = \\frac{3\\sqrt[3]{x^2}}{2} + 2\\sqrt{x} + 3\\sqrt[3]{x} + 6\\sqrt[6]{x} + 6\\cdot \\ln{\\big|\\sqrt[6]{x}-1\\big|} + const;$$\n",
    "вроде те же яйца..."
   ]
  },
  {
   "cell_type": "markdown",
   "id": "e7451600",
   "metadata": {},
   "source": [
    "Что то у меня есть сомнения, что замена: $dt=\\frac{1}{6}\\cdot x^{\\frac{-5}{6}}\\ dx = \\frac{1}{6}\\cdot t^{-5}\\ dx,\\; \\Rightarrow \\; 6t^5dt=dx\\;$ - корректна.\n",
    "\n",
    "не выходит получить подинтегральную функцию дифференкцированием результата интегрирования."
   ]
  },
  {
   "cell_type": "markdown",
   "id": "dccd17bf",
   "metadata": {},
   "source": [
    "> получилось проверить результат. Все посчитано правильно с этим интегралом."
   ]
  },
  {
   "cell_type": "markdown",
   "id": "ea8f58d9",
   "metadata": {},
   "source": [
    "##### 12. $$\\int \\sqrt[3]{x}\\cdot \\sqrt[3]{1+3\\cdot \\sqrt[3]{x^2}}\\ dx;$$"
   ]
  },
  {
   "cell_type": "markdown",
   "id": "e562293d",
   "metadata": {},
   "source": [
    "$$\\int \\sqrt[3]{x}\\cdot \\sqrt[3]{1+3\\cdot \\sqrt[3]{x^2}}\\ dx = \\int x^{\\frac{1}{3}}\\cdot \\Bigg( 1+3\\ x^{\\frac{2}{3}} \\Bigg)^{\\frac{1}{3}} dx = \\Bigg|\\; t=x^{\\frac{1}{3}},\\; dt=\\frac{1}{3} x^{-\\frac{2}{3}}\\ dx,\\; dx=3t^2\\ dt \\Bigg| = \\\\ = \\int t\\big(1+3t^2\\big)^{\\frac{1}{3}}\\cdot 3t^2\\ dt = 3 \\int t^3\\big(1+3t^2\\big)^{\\frac{1}{3}}\\ dt = 3 \\int \\big(t^9+3t^{11}\\big)^{\\frac{1}{3}}\\ dt = \\Bigg|\\; 1+3t^2=u,\\; du=6t\\ dt, t^2=\\frac{u-1}{3}, dt=\\frac{du}{6t} \\Bigg| = \\int t\\cdot u^{\\frac{1}{3}}\\cdot 3 \\frac{(u-1)}{3}\\cdot \\frac{du}{6t} = \\frac{1}{6}\\int u^{\\frac{1}{3}}\\cdot (u-1)\\ du = \\Bigg|\\; u^{\\frac{1}{3}}=v,\\; dv = \\frac{1}{3}v^{-2}du,\\; du=3v^2 dv\\; \\Bigg| = \\frac{1}{6} \\int v(v^3-1)3v^2\\ dv = \\frac{1}{2}\\int (v^6-v^3)dv = \\frac{v^7}{14} - \\frac{v^4}{8} = \\frac{u^{\\frac{7}{3}}}{14}-\\frac{u^{\\frac{4}{3}}}{8} = \\frac{(1+3x^{\\frac{2}{3}})^{\\frac{7}{3}}}{14} - \\frac{(1+3x^{\\frac{2}{3}})^{\\frac{4}{3}}}{8} + const;$$"
   ]
  },
  {
   "cell_type": "markdown",
   "id": "6d34b956",
   "metadata": {},
   "source": [
    "##### 13. $$\\int \\frac{dx}{\\sin{x}\\cdot \\sin{2x}};$$"
   ]
  },
  {
   "cell_type": "markdown",
   "id": "c8fd6015",
   "metadata": {},
   "source": [
    "$$\\int \\frac{dx}{\\sin{x}\\cdot \\sin{2x}} = \\int \\frac{dx}{2\\sin^2{x}\\cdot \\cos{x}};$$\n",
    "замечаем что подинтегральная функция нечетная относительно косинуса, значит используем замену $t=\\sin{x} \\big( -\\frac{\\pi}{2}\\leq x \\leq \\frac{\\pi}{2} \\big)$\n",
    "$$\\int \\frac{dx}{2\\sin^2{x}\\cdot \\cos{x}} = \\int \\frac{dx \\cos{x}}{2\\sin^2{x}\\cos^2{x}} = \\int \\frac{d(\\sin{x})}{2\\sin^2{x}(1-\\sin^2{x})} = \\Bigg|\\; t=\\sin{x}, dt=d(\\sin{x})=\\cos{x}\\; dx\\Bigg| = \\frac{1}{2}\\int \\frac{dt}{t^2(1-t^2)} = \\frac{1}{2}\\int \\frac{dt}{t^2-t^4} = \\frac{1}{2}\\int \\frac{dt}{t^2(1-t)(1+t)};$$\n",
    "\n",
    "в итоге я представил подинтегральную функцию в виде рациональной функции от $t$, где $t=\\sin{x}$, но вот взять его не получилось. Так же пробовал применить универсальную тригонометрическую подстановку, результат тот же - получается рациональная функция от $t$, взять интеграл от которой я не смог.\n"
   ]
  },
  {
   "cell_type": "markdown",
   "id": "add4f8e4",
   "metadata": {},
   "source": [
    "##### 14. $$\\int \\cos{5x}\\cdot \\cos{3x}\\ dx;$$"
   ]
  },
  {
   "cell_type": "markdown",
   "id": "e0b9617d",
   "metadata": {},
   "source": [
    "воспользуемся формулой преобразования произведения в сумму:\n",
    "$$\\int \\cos{5x}\\cdot \\cos{3x}\\ dx = \\frac{1}{2}\\int \\cos{8x} + \\cos{2x}\\ dx = \\frac{1}{2}\\int \\cos{8x}\\ dx + \\frac{1}{2}\\int \\cos{2x}\\ dx = \\frac{\\sin{8x}}{16} + \\frac{\\sin{2x}}{4} + const;$$"
   ]
  },
  {
   "cell_type": "markdown",
   "id": "b08ea0dd",
   "metadata": {},
   "source": [
    "##### 15. $$\\int_{0}^{\\pi} (2x+\\sin{2x})\\ dx;$$"
   ]
  },
  {
   "cell_type": "markdown",
   "id": "992f1c91",
   "metadata": {},
   "source": [
    "$$\\int_{0}^{\\pi} (2x+\\sin{2x})\\ dx = \\Big(\\frac{2x^2}{2}-\\frac{1}{2}\\cdot \\cos{2x}\\Big) \\Bigg|^{\\pi}_{0} = \\pi^2-\\frac{\\cos{2\\pi}}{2}-0^2+\\frac{\\cos{0}}{2}=\\pi^2-\\frac{1}{2}-0+\\frac{1}{2}=\\pi^2;$$"
   ]
  },
  {
   "cell_type": "markdown",
   "id": "ecc6f0e2",
   "metadata": {},
   "source": [
    "##### 16. $$\\int^{1}_{\\frac{1}{2}} \\sqrt{4x-2};$$"
   ]
  },
  {
   "cell_type": "markdown",
   "id": "5f124063",
   "metadata": {},
   "source": [
    "$$\\int^{1}_{\\frac{1}{2}} \\sqrt{4x-2} = \\Bigg|\\; (4x-2)=t, dt=4\\ dx,\\; x=.5 \\Rightarrow t=0,\\; x=1 \\Rightarrow t=2\\; \\Bigg| = \\int_{0}^{2} t^{\\frac{1}{2}}\\cdot \\frac{dt}{4} = \\frac{1}{4}\\cdot \\frac{t^{\\frac{3}{2}}}{\\frac{3}{2}} = \\frac{\\sqrt{t^3}}{6} \\Bigg|_{0}^{2} = \\frac{\\sqrt{2^3}}{6}-0=\\frac{2\\sqrt{2}}{6}=\\frac{\\sqrt{2}}{3};$$"
   ]
  },
  {
   "cell_type": "markdown",
   "id": "368649ea",
   "metadata": {},
   "source": [
    "##### 17. $$\\int_{0}^{+\\infty} e^{-4x}\\ dx;$$"
   ]
  },
  {
   "cell_type": "markdown",
   "id": "b6bb6778",
   "metadata": {},
   "source": [
    "$$\\int_{0}^{+\\infty} e^{-4x}\\ dx = -\\frac{1}{4}\\ e^{-4x}\\Bigg|_{0}^{+\\infty}= -\\frac{1}{4}\\lim_{x\\to+\\infty} e^{-4x} - -\\frac{1}{4}e^{-4\\cdot0} = -\\frac{1}{4}\\cdot \\frac{1}{+\\infty} + \\frac{1}{4}\\cdot e^{0} = \\frac{1}{4};$$"
   ]
  },
  {
   "cell_type": "markdown",
   "id": "85921c0d",
   "metadata": {},
   "source": [
    "##### 18. $$\\int_{0}^{1} \\ln{x}\\ dx;$$"
   ]
  },
  {
   "cell_type": "markdown",
   "id": "d18f9f52",
   "metadata": {},
   "source": [
    "$$\\int_{0}^{1} \\ln{x}\\ dx = \\Bigg|\\; \\ln{x}=u, du=\\frac{dx}{x},\\; dx=dv,\\; v=x\\; \\Bigg| = \\Big( x\\ln{x} - \\int x\\frac{dx}{x}\\quad \\Big) \\Bigg|_0^1 = \\Big( x\\ln{x}-x\\quad \\Big)\\Bigg|_0^1 = 1\\cdot \\ln{1}-1 - \\big(0\\cdot \\big[\\lim_{\\varepsilon\\to0}\\ln{(0+\\varepsilon)} = -\\infty \\big]- 0\\big) = 1\\cdot 0 -1 -0 = -1;$$"
   ]
  },
  {
   "cell_type": "markdown",
   "id": "41d51ef4",
   "metadata": {},
   "source": [
    "> всё готово, не дался только 13 интеграл. Я еще немного поломаю над ним мозги."
   ]
  }
 ],
 "metadata": {
  "kernelspec": {
   "display_name": "Python 3 (ipykernel)",
   "language": "python",
   "name": "python3"
  },
  "language_info": {
   "codemirror_mode": {
    "name": "ipython",
    "version": 3
   },
   "file_extension": ".py",
   "mimetype": "text/x-python",
   "name": "python",
   "nbconvert_exporter": "python",
   "pygments_lexer": "ipython3",
   "version": "3.9.4"
  }
 },
 "nbformat": 4,
 "nbformat_minor": 5
}
