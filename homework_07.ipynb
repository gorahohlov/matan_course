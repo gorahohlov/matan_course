{
 "cells": [
  {
   "cell_type": "markdown",
   "id": "5b3dae54",
   "metadata": {},
   "source": [
    "### 1. Найти интервалы возрастания и убывания функций:"
   ]
  },
  {
   "cell_type": "markdown",
   "id": "c2591221",
   "metadata": {},
   "source": [
    "##### 1) $$f(x)=x+e^{-x};$$"
   ]
  },
  {
   "cell_type": "markdown",
   "id": "f7378545",
   "metadata": {},
   "source": [
    "$$f'(x)=1-e^{-x}=1-\\frac{1}{e^x}$$\n",
    "\n",
    "производная определена на всей числовой оси и обращается в ноль при $x_0=0$\n",
    "\n",
    "на интервале $(-\\infty;0)$ производная принимает отрицательные значения $(f'(x)<0)$\n",
    "\n",
    "на интервале $(0;+\\infty)$ производная принимает положительные значения $f'(x)>0$\n",
    "\n",
    "Следовательно на интервале $(-\\infty;0) f(x)$ убывает, а на интервале $(0;+\\infty)$ возрастает."
   ]
  },
  {
   "cell_type": "markdown",
   "id": "33d8a78a",
   "metadata": {},
   "source": [
    "##### 2) $$f(x)=x\\cdot\\ln{x}$$"
   ]
  },
  {
   "cell_type": "markdown",
   "id": "7c1ebb7a",
   "metadata": {},
   "source": [
    "$$f'(x)=\\ln{x}+x\\cdot\\frac{1}{x}=ln{x}+1$$\n",
    "\n",
    "$f'(x)$ определена на интервале: $(0;+\\infty)$ и обращается в ноль при $x=\\exp(-1) \\approx .36787944$\n",
    "\n",
    "на интервале $(0; exp(-1) f'(x)<0$ значит функция $f(x)=x\\cdot\\ln{x}$ убывает на этом интервале;\n",
    "\n",
    "на интервале $(exp(-1);+\\infty), f'(x)>0$ значит функция $f(x)=x\\cdot\\ln{x}$ возрастает на этом интервале."
   ]
  },
  {
   "cell_type": "markdown",
   "id": "65a85ec6",
   "metadata": {},
   "source": [
    "##### 3) $$y=\\frac{1}{1-x^2};$$"
   ]
  },
  {
   "cell_type": "markdown",
   "id": "be6b6d9a",
   "metadata": {},
   "source": [
    "вычислим производную $y'$\n",
    "\n",
    "$$y'=\\Big((1-x^2)^{-1}\\Big)'=(-1)\\cdot(1-x^2)^{-2}\\cdot(-2x)=\\frac{2x}{(1-x^2)^2};$$\n",
    "\n",
    "производная не существует в точках $x_{1,2}=\\pm1$ и равна нулю в точке $x_0=0;$\n",
    "$$D(f'(x)): (-\\infty;-1)\\cup(-1:0)\\cup(0;1)\\cup(1;+\\infty)$$\n",
    "\n",
    "определим знак значение $f'(x)$ на каждом интервале и сделаем вывод относительно возрастания/убывания f(x):\n",
    "\n",
    "- $(-\\infty;-1), f'(x)<0, f(x): убывает;$\n",
    "- $(-1;0), f'(x)<0, f(x): убывает;$\n",
    "- $(0;1), f'(x)>0, f(x): возрастает;$\n",
    "- $(1;+\\infty), f'(x)>0,$ значит $f(x): возрастает;$"
   ]
  },
  {
   "cell_type": "markdown",
   "id": "17a9fd20",
   "metadata": {},
   "source": [
    "### 3. Найти экстремумы функций:"
   ]
  },
  {
   "cell_type": "markdown",
   "id": "e4433fed",
   "metadata": {},
   "source": [
    "##### 1) $$f(x)=x^3-3x+1;$$"
   ]
  },
  {
   "cell_type": "markdown",
   "id": "6706222c",
   "metadata": {},
   "source": [
    "Определим критические и стационарные точки функции f(x):\n",
    "\n",
    "для этого найдем производную $f'(x)=3x^2-3$, критические точки отсутствуют f'(x) определена на всей числовой оси; стационарные точки $x_{1,2}=\\sqrt{\\frac{3}{3}}=\\pm1;$\n",
    "\n",
    "посмотрим какие значения принимает производная на интервалах её области определения:\n",
    "\n",
    "$(-\\infty;-1), f'(x)>0$\n",
    "\n",
    "$(-1;+1), f'(x)<0$\n",
    "\n",
    "$(1;+\\infty), f'(x)>0$\n",
    "\n",
    "в точке $x=-1$ - локальный максимум $f(-1)=3;$\n",
    "\n",
    "в точке $x=+1$ - локальный минимум $f(+1)=-1;$"
   ]
  },
  {
   "cell_type": "markdown",
   "id": "c36a6eb5",
   "metadata": {},
   "source": [
    "##### $$f(x)=\\exp(x^2-4x+5)$$"
   ]
  },
  {
   "cell_type": "markdown",
   "id": "6fabb41a",
   "metadata": {},
   "source": [
    "посчитаем первую производную: $f'(x)=(2x-4)\\cdot\\exp(x^2-4x+5);$\n",
    "\n",
    "$f'(x)$ определена на всей числовой оси и принимает 0 значнения в точках: $x_1=2$\n",
    "\n",
    "$f'(x<2)<0, f'(x>2)>0$, Вывод $f(x)$ убывает на $(-\\infty;2)$ и возрастает на $(2;+\\infty)$, $x=2$ - точка локального минимума $f(x=2)= e$;\n",
    "\n",
    "так же если посчитаем вторую производную: $f''(x)=2\\cdot\\exp(x^2-4+5)+(2x-4)^2\\cdot\\exp(x^2-4+5);$\n",
    "\n",
    "$f''(x=2)=2\\cdot e^5\\approx 269.8263>0$ Вывод: $x_0=2$ - точка локального минимума;"
   ]
  },
  {
   "cell_type": "markdown",
   "id": "a1fd2adc",
   "metadata": {},
   "source": [
    "##### $$y=x-\\arctan{x}$$"
   ]
  },
  {
   "cell_type": "markdown",
   "id": "61370a80",
   "metadata": {},
   "source": [
    "$$y'=1-\\frac{1}{1+x^2}$$\n",
    "\n",
    "$y'$ - определена на всей числовой оси $(-\\infty;+\\infty)$ и принимает неотрицательные значения, обращается в ноль при $x=0, y'(0)=0$; Вывод: функция y не имеет экстремума;\n",
    "\n",
    "также $y''(x)=2x\\cdot(1+x^2)^{-2} \\Rightarrow y''(0)=0$ Согласно второму достаточному условию существования экстремума - функция $y=x-\\arctan{x}$ не имеем локального экстремума."
   ]
  },
  {
   "cell_type": "markdown",
   "id": "a1540ed3",
   "metadata": {},
   "source": [
    "### 3. Найти интервалы выпуклости и точки перегиба функции:"
   ]
  },
  {
   "cell_type": "markdown",
   "id": "8cbc5283",
   "metadata": {},
   "source": [
    "##### 1) $$f(x)=e^{-x^2}=\\exp(-x^2);$$"
   ]
  },
  {
   "cell_type": "markdown",
   "id": "0254f81b",
   "metadata": {},
   "source": [
    "$$f'(x)=e^{-x^2}\\cdot(-2x)=-2x\\cdot e^{-x^2}$$\n",
    "$$f''(x)=(-2)\\cdot e^{-x^2}+(-2x)\\cdot(-2x)\\cdot e^{-x^2}=e^{-x^2}\\cdot(4x^2-2)$$\n",
    "\n",
    "$f''(x)=0$ при $x_{1,2}=\\pm\\frac{1}{\\sqrt{2}};$ на интервалах: $(-\\infty;-\\frac{1}{\\sqrt{2}})$ и $(+\\frac{1}{\\sqrt{2}};+\\infty), f''(x)>0,$ на интервале $(-\\frac{1}{\\sqrt{2}};+\\frac{1}{\\sqrt{2}}), f''(x)<0$ значит в точках: $x_{1,2}=\\pm\\frac{1}{\\sqrt{2}}, f''(x)$ меняет знак. Вывод: точки:$(-\\frac{1}{\\sqrt{2}};\\frac{1}{\\sqrt{e}})$ и $(+\\frac{1}{\\sqrt{2}};\\frac{1}{\\sqrt{e}})$ - точки перегиба функции.\n",
    "\n",
    "На интервалах $(-\\infty;-\\frac{1}{\\sqrt{2}})$ и $(+\\frac{1}{\\sqrt{2}};+\\infty), f(x)$ выпукла вниз (вогнута); на интервале $(-\\frac{1}{\\sqrt{2}};+\\frac{1}{\\sqrt{2}})$ - выпукла вверх."
   ]
  },
  {
   "cell_type": "markdown",
   "id": "37b65b76",
   "metadata": {},
   "source": [
    "##### 2) $$f(x)=\\cos(x)$$"
   ]
  },
  {
   "cell_type": "markdown",
   "id": "d60408f7",
   "metadata": {},
   "source": [
    "$f'(x)=(\\cos{x})'=-\\sin{x};$\n",
    "\n",
    "$f''(x)=-\\cos{x};$\n",
    "\n",
    "$f'''(x)=+\\sin{x};$\n",
    "\n",
    "все четыре функции: $f(x), f'(x), f''(x), f'''(x)$ определены на всей числовой оси.\n",
    "\n",
    "Определим точки перегиба $f(x)$ на основании второго достаточного условия точки перегиба:\n",
    "\n",
    "Функция $f''(x)=-\\cos{x}$ обращается в ноль в точках $\\frac{\\pi}{2}\\pm\\pi\\cdot n, n \\in \\mathbb{N}$\n",
    "\n",
    "при этом функция $f'''(x)$ в этих точках имеет максимум $(\\frac{\\pi}{2}\\pm\\pi\\cdot 2n)$ и минимум $(\\frac{\\pi}{2}\\pm\\pi\\cdot(2n-1))$, т.е. не равна нулю в этих точках; Следовательно в точках $\\frac{\\pi}{2}\\pm\\pi\\cdot n, n \\in \\mathbb{N},$ функция $f(x)=\\cos{x}$ имеет точки перегиба.\n",
    "\n",
    "Функция $f(x)=\\cos{x}$ выпукла вверх, когда $f''(x)=-\\cos{x}<0,$ $f''(x)<0,$ когда $x\\in\\big(-\\frac{\\pi}{2}\\pm2\\pi n;\\frac{\\pi}{2}\\pm2\\pi n\\big), n\\in \\mathbb{N}$ - на этом промежутке $f(x)=\\cos{x}$ выпукла вверх;\n",
    "\n",
    "на интервале $x\\in\\big(+\\frac{\\pi}{2}\\pm2\\pi n;\\frac{3\\pi}{2}\\pm2\\pi n\\big), n\\in \\mathbb{N},$ функция $f''(x)$ больше нуля, значит $f(x)=\\cos{x}$ выпукла вниз (вогнута) на этом интервале."
   ]
  },
  {
   "cell_type": "markdown",
   "id": "1ff1311b",
   "metadata": {},
   "source": [
    "##### 3) $$f(x)=x^5-10x^2+7x$$"
   ]
  },
  {
   "cell_type": "markdown",
   "id": "291a4426",
   "metadata": {},
   "source": [
    "$f'(x)=5x^4-20x+7;$\n",
    "\n",
    "$f''(x)=20x^3-20;$\n",
    "\n",
    "$f'''(x)=60x^2;$\n",
    "\n",
    "$f''(x)$ обращается в ноль в точке $\\sqrt[3]{\\frac{20}{20}}=1, f'''(1)=60\\neq0;$ $x=1$ - точка перегиба для функции $f(x)=x^5-10x^2+7x$;\n",
    "\n",
    "на интерввале $(-\\infty;1), f''(x)<0$ на этом интервале $f(x)$ выпукла вверх;\n",
    "\n",
    "на интерввале $(1;+\\infty), f''(x)>0$ на этом интервале $f(x)$ выпукла вниз (вогнута);$\n"
   ]
  },
  {
   "cell_type": "markdown",
   "id": "6cf4e46e",
   "metadata": {},
   "source": [
    "### 4. Найти асимптоты графиков функций:"
   ]
  },
  {
   "cell_type": "markdown",
   "id": "bd2d7407",
   "metadata": {},
   "source": [
    "##### 1) $$f(x)=\\frac{3x}{x+2};$$"
   ]
  },
  {
   "cell_type": "markdown",
   "id": "508122bb",
   "metadata": {},
   "source": [
    "$f(x)$ несуществует в точке $x=-2$;\n",
    "\n",
    "исследуем как ведёт себя функция стремясь к этой точке и на бесконечности.\n",
    "\n",
    "$$\\lim_{x\\to{-2-0}}\\frac{3x}{x+2}=\\lim_{x\\to{-2-0}}\\frac{3}{1+\\frac{2}{x}}=+\\infty;$$\n",
    "$$\\lim_{x\\to{-2+0}}\\frac{3x}{x+2}=\\lim_{x\\to{-2+0}}\\frac{3}{1+\\frac{2}{x}}=-\\infty;$$\n",
    "$$\\lim_{x\\to-\\infty}\\frac{3x}{x+2}=\\lim_{x\\to-\\infty}\\frac{3}{1+\\frac{2}{x}}=3+0; сверху$$\n",
    "$$\\lim_{x\\to+\\infty}\\frac{3x}{x+2}=\\lim_{x\\to+\\infty}\\frac{3}{1+\\frac{2}{x}}=3-0; снизу$$\n",
    "$$\\lim_{x\\to\\pm\\infty}\\frac{f(x)}{x}=\\lim_{x\\to\\pm\\infty}\\frac{3}{1+\\frac{2}{x}}=3;$$\n",
    "$$\\lim_{x\\to\\pm\\infty}\\Big[\\frac{3x}{x+2}-3x\\Big]=\\lim_{x\\to\\pm\\infty}\\Big[\\frac{3x-3x^2-6x}{x+2}\\Big]=\\lim_{x\\to\\pm\\infty}\\Big[\\frac{-3x^2-3x}{x+2}\\Big]=-3\\lim_{x\\to\\pm\\infty}\\Big[\\frac{1+\\frac{1}{x}}{\\frac{1}{x}+\\frac{2}{x^2}}\\Big]=\\pm\\infty$$\n",
    "последний предел не существует, значит график функции не имеет наклонной асимптоты.\n",
    "\n",
    "Вывод: график функции $f(x)=\\frac{3x}{x+2}$ имеет вертикальную асимптому в точке $x_0=-2$ и горизонтальную асимптому $b=3$;"
   ]
  },
  {
   "cell_type": "markdown",
   "id": "a213cda3",
   "metadata": {},
   "source": [
    "##### 2) $$f(x)=e^{-\\frac{1}{x}};$$"
   ]
  },
  {
   "cell_type": "markdown",
   "id": "61a52f4f",
   "metadata": {},
   "source": [
    "$f(x)$ не существует в точке $x_0=0$ посмотрим чему равны пределы в стремлении к этой точке и на бесконечности;\n",
    "\n",
    "$$\\lim_{x\\to0-0}e^{-\\frac{1}{x}}=+\\infty;$$\n",
    "$$\\lim_{x\\to0+0}e^{-\\frac{1}{x}}=0;$$\n",
    "$$\\lim_{x\\to\\pm\\infty}e^{-\\frac{1}{x}}=\\Big|-\\frac{1}{x}=t, x\\to\\pm\\infty, t\\to\\mp0\\Big|=\\lim_{t\\to\\mp0}e^t=1\\mp{t}+o(t)=1\\mp0;$$\n",
    "$$\\lim_{x\\to\\pm\\infty}\\frac{f(x)}{x}=\\lim_{x\\to\\pm\\infty}\\frac{1}{xe^{\\frac{1}{x}}}=\\Big|\\frac{1}{x}=t,x\\to\\pm\\infty, t\\to\\pm0\\Big|=\\lim_{t\\to\\pm0}\\frac{t}{e^t}=\\frac{\\pm0}{1\\pm0}=\\pm0;$$\n",
    "Выводы: k=0, наклонная асимптота отсутствует; график функции имеет вертикальную асимптоту $x=0$, к которой стремится слева; горизонтальную асимптому $y=1$, к которой стремится сверху и снизу;"
   ]
  },
  {
   "cell_type": "markdown",
   "id": "2a7a9bd7",
   "metadata": {},
   "source": [
    "### 5. Исследовать функции и построить графики:"
   ]
  },
  {
   "cell_type": "markdown",
   "id": "af9c2a3c",
   "metadata": {},
   "source": [
    "##### 1) $$y=\\ln(1-x^2);$$"
   ]
  },
  {
   "cell_type": "markdown",
   "id": "17349a82",
   "metadata": {},
   "source": [
    "$(1-x^2)>0 \\Rightarrow 1>x^2 \\Rightarrow x<\\pm\\sqrt{1};$\n",
    "\n",
    "$D(f): (-1:1)$"
   ]
  },
  {
   "cell_type": "markdown",
   "id": "1f4ca9c2",
   "metadata": {},
   "source": [
    "$y(-x)=\\ln(1-(-x)^2)=\\ln(1-x^2);$\n",
    "\n",
    "Функция четная, явно непериодическая: $\\ln(1-(x+T)^2)\\neq\\ln(1-x^2)$"
   ]
  },
  {
   "cell_type": "markdown",
   "id": "bb78cbd7",
   "metadata": {},
   "source": [
    "Исследуем на непрерывность:\n",
    "\n",
    "функция $(1-x^2)$ непрерывна на всей числовой оси. Сложная функция $\\ln(1-x^2)$ на основании теоремы о непрерывности сложной функции $\\ln(1-x^2)$ непрерывна на всей своей области определения $(-1:+1)$ и не имеет на ней точек разрыва."
   ]
  },
  {
   "cell_type": "markdown",
   "id": "1fa440af",
   "metadata": {},
   "source": [
    "точки пересечения с осями координат;\n",
    "\n",
    "$y(0)=\\ln(1-0^2)=\\ln(1)=0$\n",
    "\n",
    "$\\ln(1-x^2)=0; \\Rightarrow (1-x^2)=1 \\Rightarrow x^2=0 \\Rightarrow x=0$\n",
    "\n",
    "Функция имеет единственную точку пересечения с осями координат: $(0;0)$."
   ]
  },
  {
   "cell_type": "markdown",
   "id": "50a94cde",
   "metadata": {},
   "source": [
    "интервалы знакопостоянства: $\\ln(1-x^2)<0,$ при $x\\in (0;1)$, на основании четности функции можно утверждать что на интервале $(-1;0)$ функция так же отрицательна;\n",
    "\n",
    "Вывод: $\\ln(1-x^2)$ неположительна на всём интервале своего определения $(-1;1).$"
   ]
  },
  {
   "cell_type": "markdown",
   "id": "03042b87",
   "metadata": {},
   "source": [
    "найдем асимптоты при стремление функции к $-1+0$ и к $+1-0$;\n",
    "\n",
    "$$\\lim_{x\\to-1+0}ln(1-x^2)=\\Big|(1-x^2)=t, x\\to-1+0\\Rightarrow x^2<1, t\\to0+0\\Big|=\\lim_{t\\to0+0}ln(t)=-\\infty;$$\n",
    "$$\\lim_{x\\to+1-0}ln(1-x^2))=\\Big|(1-x^2)=t, x\\to+1-0\\Rightarrow x^2<1, t\\to0+0\\Big|=\\lim_{t\\to0+0}ln(t)=-\\infty;$$\n",
    "\n",
    "на концах области определения график имеет две вертикальные асимптоты $x_1=-1$ и $x_2=1$;\n",
    "\n",
    "вертикальные и наклонные асимптоты отсутствуют."
   ]
  },
  {
   "cell_type": "markdown",
   "id": "3b8b7477",
   "metadata": {},
   "source": [
    "$$f'(x)=\\frac{1}{(1-x^2)}\\cdot (-2x)=\\frac{2x}{x^2-1}$$\n",
    "на области определения первая производная обращается в нуль в точке $x=0$ и принимает значения больше нуля на интервале $(-1;0)$, отрицательные значения на интервале $(0;1)$;\n",
    "\n",
    "Функция возрастает на отрезке $(-1;0)$ и убывает на отрезке $(0;1)$ и в точке $(0;0)$ имеет локальный максимум."
   ]
  },
  {
   "cell_type": "markdown",
   "id": "d92b4bf2",
   "metadata": {},
   "source": [
    "Интервалы выпуклости, вогнутости, точки перегиба.\n",
    "\n",
    "$$f''(x)=\\frac{2(x^2-1)-2x\\cdot2x}{(x^2-1)^2}=\\frac{2x^2-4x^2-2}{(x^2-1)^2}=\\frac{-2(x^2+1)}{(x^2-1)^2}$$\n",
    "\n",
    "вторая производная существует во всех точках области определения $f(x)$ не обращается в ноль на этом интервале и принимает отрицательные значения. \n",
    "\n",
    "Вывод: $f(x)$ выпукла вверх на всем интервале области определения $(-1;1)$, точки перегиба отсутствуют."
   ]
  },
  {
   "cell_type": "code",
   "execution_count": 5,
   "id": "445d4c2b",
   "metadata": {},
   "outputs": [
    {
     "data": {
      "image/png": "[encoded data removed]",
      "text/plain": [
       "<Figure size 1080x432 with 1 Axes>"
      ]
     },
     "metadata": {},
     "output_type": "display_data"
    }
   ],
   "source": [
    "import matplotlib.pyplot as plt\n",
    "import numpy as np\n",
    "import math\n",
    "x1 = np.linspace(-.999999, 1-1e-6, 1024)\n",
    "y1 = [math.log(1-elem**2) for elem in x1]\n",
    "plt.figure(figsize=(15,6), facecolor='w')\n",
    "plt.axis([-1.5, 1.5, -16, 2])\n",
    "plt.plot(x1, y1, color='red')\n",
    "plt.grid()\n",
    "plt.show()"
   ]
  },
  {
   "cell_type": "markdown",
   "id": "7e3d7f86",
   "metadata": {},
   "source": [
    "##### 2) $$y=\\frac{x^2}{1-x^2};$$"
   ]
  },
  {
   "cell_type": "markdown",
   "id": "937abc3a",
   "metadata": {},
   "source": [
    "функция неопределена в точках где $(1-x^2)$ равен нулю: $x_{1,2}=\\pm1$;\n",
    "\n",
    "$D(f):(-\\infty;-1)\\cup(-1;1)\\cup(1;+\\infty)$"
   ]
  },
  {
   "cell_type": "markdown",
   "id": "46cf1c58",
   "metadata": {},
   "source": [
    "функция четна: $y(-x)=\\frac{(-x)^2}{(1-(-x)^2}=\\frac{x^2}{1-x^2}=y(x),$ значит симметрична относительно Ox; непериодическая."
   ]
  },
  {
   "cell_type": "markdown",
   "id": "839d31d5",
   "metadata": {},
   "source": [
    "для исследования непрерывности функции, посмотрим как ведет себя функция в пределе к точкам $x_{1,2}=\\pm1$;\n",
    "\n",
    "$$\\lim_{x\\to+1\\pm0}\\frac{x^2}{1-x^2}=\\Big|x=(1+t), x\\to\\pm1 \\rightarrow t\\to0\\pm0\\Big|=\\lim_{t\\to0\\pm0}\\frac{(1+t)^2}{1-(1+t)^2}=\\lim_{t\\to0\\pm0}\\frac{1+2t+o(t)}{1-(1+2t+o(t))}=\\lim_{t\\to0\\pm0}\\frac{1+2t}{-2t}=\\lim_{t\\to0\\pm0}\\frac{-.5}{t}-1=\\mp\\infty;$$\n",
    "из-за четности функции, график будет зеркален относительно Ox - т.е. \n",
    "$$\\lim_{x\\to-1\\pm0}\\frac{x^2}{1-x^2}=\\pm\\infty;$$\n",
    "$$\\lim_{x\\to\\pm\\infty}\\frac{x^2}{1-x^2}=\\lim_{x\\to\\pm\\infty}\\frac{1}{0-1}=-1-0;$$\n",
    "\n",
    "Выводы: График функции $\\frac{x^2}{1-x^2}$ имеет разрывы 2-го рода в точках $x=\\pm1;$"
   ]
  },
  {
   "cell_type": "markdown",
   "id": "4a284ad0",
   "metadata": {},
   "source": [
    "$y(0)=\\frac{0}{1-0}=0$, $\\frac{x^2}{1-x^2}=0,$ при $x=0$.\n",
    "\n",
    "График пересекает оси в начале координат, в точке: $(0;0)$"
   ]
  },
  {
   "cell_type": "markdown",
   "id": "48f26b05",
   "metadata": {},
   "source": [
    "Интервалы знакопостоянства:\n",
    "\n",
    "$(-\\infty;-1), f(x)<0;$\n",
    "\n",
    "$(1;+\\infty), f(x)<0;$\n",
    "\n",
    "$(-1;1), f(x)\\geq0$ "
   ]
  },
  {
   "cell_type": "markdown",
   "id": "038da4e5",
   "metadata": {},
   "source": [
    "по значениям пределов из пункта по исследованию на непрерывность можно заключить, что график имеет 2 вертикальные и 1 горизонтальную асимптоту: $x=-1, x=1, y=-1;$\n",
    "\n",
    "Наклонная асимптота отсутствует: $$k=\\lim_{x\\to\\pm\\infty}\\frac{f(x)}{x}=\\lim_{x\\to\\pm\\infty}\\frac{x}{1-x^2}=\\frac{0}{0-1}=0;$$ \n",
    "$$b=\\lim_{x\\to\\pm\\infty}f(x)-k(=0)=0;$$"
   ]
  },
  {
   "cell_type": "markdown",
   "id": "6a7badac",
   "metadata": {},
   "source": [
    "Интервалы возрастания, убывания, экстремумы:\n",
    "$$f'(x)=\\frac{2x(1-x^2)-x^2\\cdot-2x}{(1-x^2)^2}=\\frac{2x-2x^3+2x^3}{(1-x^2)^2}=\\frac{2x}{(1-x^2)^2};$$\n",
    "Исследуем знакопостоянство функции на интервалах:\n",
    "\n",
    "$(-\\infty;-1), f'(x)<0: f(x)$ убывает;\n",
    "\n",
    "$(-1;0), f'(x)<0: f(x)$ убывает;\n",
    "\n",
    "$(0;1), f'(x)>0: f(x)$ возрастает;\n",
    "\n",
    "$(1;+\\infty), f'(x)>0: f(x)$ возрастает;\n",
    "\n",
    "в точке (0;0) $f'(x)$ меняет знак с минуса на плюс, стало быть эта точка локального минимума."
   ]
  },
  {
   "cell_type": "markdown",
   "id": "f17e3e39",
   "metadata": {},
   "source": [
    "Найти интервалы выпуклости, вогнутости, точки перегиба:\n",
    "$$f''(x)=\\frac{2(1-x^2)^2-2x\\cdot2(1-x^2)\\cdot-2x}{(1-x^2)^4}=\\frac{2(1-x^2)^2+8x^2(1-x^2)}{(1-x^2)^4}=\\frac{2x^4-4x^2+2+8x^2-8x^4}{(1-x^2)^4}=\\frac{(1-x^2)(2(1-x^2)+8x^2)}{(1-x^2)^4}=\\frac{-6x^4+4x^2+2}{(1-x^2)^4}=\\frac{8x^2+2-2x^2}{(1-x^2)^3}=\\frac{6x^2+2}{(1-x^2)^3}=\\frac{6x^2+2}{-x^6+3x^4-3x^2+1};$$"
   ]
  },
  {
   "cell_type": "markdown",
   "id": "367fc037",
   "metadata": {},
   "source": [
    "$f''(x)$ не пересекает ось абцисс (не принимает нулевые значения) и по-прежнему неопределена в точках $x_{1,2}=\\pm1$"
   ]
  },
  {
   "cell_type": "markdown",
   "id": "6757298e",
   "metadata": {},
   "source": [
    "Определим ее интервалы знакопостоянства:\n",
    "\n",
    "$(-\\infty;-1), f''(x)<0: f(x)$ выпукла вверх;\n",
    "\n",
    "$(-1;+1), f''(x)>0: f(x)$ выпукла вниз(вогнута);\n",
    "\n",
    "$(1;+\\infty), f''(x)<0: f(x)$ выпукла вверх;\n",
    "\n",
    "Точки перегиба отсутствуют, т.к. $f''(x)$ хоть и меняет знак, но $f(x)$ не непрерывна при $x=\\pm1$;"
   ]
  },
  {
   "cell_type": "code",
   "execution_count": 38,
   "id": "e07353bc",
   "metadata": {},
   "outputs": [
    {
     "data": {
      "image/png": "[encoded data removed]",
      "text/plain": [
       "<Figure size 1080x576 with 1 Axes>"
      ]
     },
     "metadata": {},
     "output_type": "display_data"
    }
   ],
   "source": [
    "x21 = np.linspace(-2, -1.0001, 512)\n",
    "y21 = x21**2/(1-x21**2)\n",
    "x22 = np.linspace(-.9999, .9999, 512)\n",
    "y22 = x22**2/(1-x22**2)\n",
    "x23 = np.linspace(1.0001, 2, 512)\n",
    "y23 = x23**2/(1-x23**2)\n",
    "plt.figure(figsize=(15, 8), facecolor='w')\n",
    "plt.axis([-1.7, 1.7, -50, 50])\n",
    "plt.plot(x21, y21, x22, y22, x23, y23, color='g')\n",
    "plt.grid()\n",
    "plt.show()"
   ]
  },
  {
   "cell_type": "markdown",
   "id": "e2d42425",
   "metadata": {},
   "source": [
    "##### 3) $$y=x^2\\cdot e^{-x}=\\frac{x^2}{e^x};$$"
   ]
  },
  {
   "cell_type": "markdown",
   "id": "948b37bb",
   "metadata": {},
   "source": [
    "$D(f):(-\\infty;+\\infty)$, особенных точек в которых f(x) не существует нет. Область определения вся числовая ось."
   ]
  },
  {
   "cell_type": "markdown",
   "id": "7173755e",
   "metadata": {},
   "source": [
    "$f(-x)=(-x)^2\\cdot e^{x}=x^2\\cdot e^x$\n",
    "Функция не является ни четной, ни нечетной, ни периодической."
   ]
  },
  {
   "cell_type": "markdown",
   "id": "3ad7a0cc",
   "metadata": {},
   "source": [
    "Исследовать на непрерывность и найти точки разрыва.\n",
    "\n",
    "Посмотрим как ведет себя функция при $x \\to \\pm\\infty$;\n",
    "\n",
    "$$\\lim_{x\\to-\\infty}\\frac{x^2}{e^x}=\\frac{+\\infty}{0+0}=+\\infty;$$\n",
    "$$\\lim_{x\\to+\\infty}\\frac{x^2}{e^x}=0+0;$$ - функция $e^x$ при $x\\to+\\infty$ является бесконочно большой более высокого порядка, чем функция $x^2$ - обосновать это не знаю чем.\n",
    "\n",
    "точек разрыва не существует; Функция непрервына на все числовой оси $(-\\infty;+\\infty);$"
   ]
  },
  {
   "cell_type": "markdown",
   "id": "90fee9a9",
   "metadata": {},
   "source": [
    "попробовал найти предел: $$\\lim_{x\\to+\\infty}\\frac{x^2}{e^x}=\\Big|x=\\frac{1}{t}, x\\to+\\infty: t\\to0+0\\Big|=\\lim_{t\\to0+0}\\frac{(\\frac{1}{t})^2}{e^\\frac{1}{t}}=\\lim_{t\\to0+0}t^{-2}e^{-\\frac{1}{t}}=\\frac{1-\\frac{1}{t}+o(t^{-1})}{t^2}=\\frac{1}{t^2}-\\frac{1}{t^3}+t^{-2}o(t^{-1})=\\frac{1}{t^2}-\\frac{1}{t^3}-o(t^{-3});$$ неопределенности не убавилось ((("
   ]
  },
  {
   "cell_type": "markdown",
   "id": "3af28f1d",
   "metadata": {},
   "source": [
    "$f(x)=0$, при $x=0$, $f(0)=0$ \n",
    "\n",
    "График функции пересекает оси координат в единственной точек $(0;0).$"
   ]
  },
  {
   "cell_type": "markdown",
   "id": "eb548c06",
   "metadata": {},
   "source": [
    "$x^2>0,$ при $x\\in(-\\infty;+\\infty)$,\n",
    "\n",
    "$e^x>0,$ при $x\\in(-\\infty;+\\infty)$.\n",
    "\n",
    "$f(x)>0$ на всей числовой оси."
   ]
  },
  {
   "cell_type": "markdown",
   "id": "9b11df63",
   "metadata": {},
   "source": [
    "Горизонтальная асимптота $y=0,$ при $x\\to+\\infty;$"
   ]
  },
  {
   "cell_type": "markdown",
   "id": "a4130dc4",
   "metadata": {},
   "source": [
    "Интервалы возрастания, убывания, экстремумы:\n",
    "$$f'(x)=\\frac{2x\\cdot e^x-x^2\\cdot e^x}{e^{2x}}=\\frac{2x-x^2}{e^x}$$\n",
    "$f'(x)=0$ при $x_1=0$, $x_2=2$"
   ]
  },
  {
   "cell_type": "code",
   "execution_count": 9,
   "id": "2eea1b87",
   "metadata": {},
   "outputs": [],
   "source": [
    "def f_x(x):\n",
    "    return (2*x-(x)**2)/math.exp(x)"
   ]
  },
  {
   "cell_type": "code",
   "execution_count": 12,
   "id": "5995fa21",
   "metadata": {},
   "outputs": [
    {
     "data": {
      "text/plain": [
       "(-8.154845485377136, 0.36787944117144233, -0.14936120510359183)"
      ]
     },
     "execution_count": 12,
     "metadata": {},
     "output_type": "execute_result"
    }
   ],
   "source": [
    "f_x(-1), f_x(1), f_x(3)"
   ]
  },
  {
   "cell_type": "markdown",
   "id": "83984bf5",
   "metadata": {},
   "source": [
    "при $x \\in (-\\infty;0): f'(x)<0;$\n",
    "\n",
    "при $x \\in (0;2): f'(x)>0;$\n",
    "\n",
    "при $x \\in (2;+\\infty): f'(x)<0;$\n",
    "\n",
    "$f(x)$ убывает на интервалах $(-\\infty;0) \\cup (2;+\\infty)$ и возрастает на интервале $(0;2)$\n",
    "$f(x)$ дважды меняет знак, поэтому имеет в точке $(0,f(0)=0)$ - локальный минимум; в точке $(2;f(2)=\\frac{4}{e^2})$ - локальный максимум."
   ]
  },
  {
   "cell_type": "markdown",
   "id": "957317d3",
   "metadata": {},
   "source": [
    "найти интервалы выпуклости, вогнутости и точки перегиба.\n",
    "$$f''(x)=\\frac{(-2x+2)e^x-e^x(2x-x^2)}{e^{2x}}=\\frac{x^2-4x+2}{e^x}=\\frac{(x-2)^2-2}{e^x};$$\n",
    "$f''(x)$ обращается в ноль при $(x-2)^2=2, x_0=2\\pm\\sqrt2$\n",
    "\n",
    "при $x\\in(-\\infty;2-\\sqrt2), f''(x)>0,$ график выпуклый вниз (вогнутый);\n",
    "\n",
    "при $x\\in(2-\\sqrt2;2+\\sqrt2), f''(x)<0,$ график выпуклый вверх;\n",
    "\n",
    "при $x\\in(2+\\sqrt2;+\\infty), f''(x)>0,$ график выпуклый вниз (вогнутый);\n",
    "\n",
    "точки: $\\Big(x=2-\\sqrt2;f(2-\\sqrt2)\\Big)$ и $\\Big(x=2+\\sqrt2;f(2+\\sqrt2)\\Big)$ - точки перегиба функции."
   ]
  },
  {
   "cell_type": "code",
   "execution_count": 22,
   "id": "230d041a",
   "metadata": {},
   "outputs": [
    {
     "data": {
      "text/plain": [
       "(0.1910182260569769, 0.38353699051253864)"
      ]
     },
     "execution_count": 22,
     "metadata": {},
     "output_type": "execute_result"
    }
   ],
   "source": [
    "(2-2**.5)**2/math.exp(2-2**.5), (2+2**.5)**2/math.exp(2+2**.5)"
   ]
  },
  {
   "cell_type": "code",
   "execution_count": 25,
   "id": "75c01895",
   "metadata": {},
   "outputs": [],
   "source": [
    "def f2_x(x):\n",
    "    return ((x-2)**2-2)/math.exp(x)"
   ]
  },
  {
   "cell_type": "code",
   "execution_count": 26,
   "id": "3e40dcff",
   "metadata": {},
   "outputs": [
    {
     "data": {
      "text/plain": [
       "(19.027972799213316, -0.2706705664732254, 0.036631277777468364)"
      ]
     },
     "execution_count": 26,
     "metadata": {},
     "output_type": "execute_result"
    }
   ],
   "source": [
    "f2_x(-1), f2_x(2), f2_x(4)"
   ]
  },
  {
   "cell_type": "code",
   "execution_count": 35,
   "id": "3ff62381",
   "metadata": {},
   "outputs": [
    {
     "data": {
      "image/png": "[encoded data removed]",
      "text/plain": [
       "<Figure size 1080x576 with 1 Axes>"
      ]
     },
     "metadata": {},
     "output_type": "display_data"
    }
   ],
   "source": [
    "x3 = np.linspace(-1, 10, 1025)\n",
    "y3 = [(elem**2/math.exp(elem)) for elem in x3]\n",
    "plt.figure(figsize=(15, 8), facecolor='w')\n",
    "plt.plot(x3, y3, color='b')\n",
    "plt.grid()\n",
    "plt.show()"
   ]
  },
  {
   "cell_type": "markdown",
   "id": "2eaf2eb5",
   "metadata": {},
   "source": [
    "##### 4) $$y=x-\\ln{x}.$$"
   ]
  },
  {
   "cell_type": "markdown",
   "id": "706e323b",
   "metadata": {},
   "source": [
    "Область определения: $D(f):(0;+\\infty)$, т.к. функция ln не определена при неположительном значении аргумента. "
   ]
  },
  {
   "cell_type": "markdown",
   "id": "25324de6",
   "metadata": {},
   "source": [
    "$y(-x)=-x-ln(-x)$ - не имеет смысла; функция не четная, не нечетная, не периодическая."
   ]
  },
  {
   "cell_type": "markdown",
   "id": "c4dcb36e",
   "metadata": {},
   "source": [
    "Функция непрерывна на всей области определения. Точки разрыва отсутствуют."
   ]
  },
  {
   "cell_type": "markdown",
   "id": "1cd4fb01",
   "metadata": {},
   "source": [
    "Функция не пересекает ось ординат т.к. неопределена в точке $x=0$ и не пересекает ось абцисс, т.к. уравнение $x=\\ln{x}$ или что то же самое $e^x=x$, не имеет корней."
   ]
  },
  {
   "cell_type": "markdown",
   "id": "e03edab1",
   "metadata": {},
   "source": [
    "$f(x)>0$ на $D(f), f(e)=e-\\ln{e}=e-1>0;$\n",
    "\n",
    "$f(x)$ всюду больше нуля, где она определена."
   ]
  },
  {
   "cell_type": "markdown",
   "id": "e192f8b8",
   "metadata": {},
   "source": [
    "$$\\lim_{x\\to0}(x-\\ln{x})=0-(-\\infty)=+\\infty$$\n",
    "$$\\lim_{x\\to+\\infty}(x-\\ln{x})=\\lim_{x\\to+\\infty}(e^x-x)=+\\infty$$\n",
    "$$\\lim_{x\\to+\\infty}\\Big(1-\\frac{\\ln{x}}{x}\\Big)=1-\\lim_{x\\to+\\infty}\\frac{x}{e^x}=1$$\n",
    "$$\\lim_{x\\to+\\infty}[x-\\ln{x}-1\\cdot x]=-\\lim_{x\\to+\\infty}\\ln{x}=-\\infty \\neq b;$$ \n",
    "Имеется вертикальная асимптота $x=0$, наклонная и горизонтальная асимптота отсутстует."
   ]
  },
  {
   "cell_type": "markdown",
   "id": "74913a43",
   "metadata": {},
   "source": [
    "$$f'(x)=1-\\frac{1}{x}$$\n",
    "$f'(x)=0$ при $x=1$\n",
    "\n",
    "при $x\\in (0;1), f'(x)<0$, функция убывает;\n",
    "\n",
    "при $x\\in (1;+\\infty), f'(x)>0$, функция возрастает;\n",
    "\n",
    "$f'(x)$ меняет знак при $x=1$, значит точка $\\big(1;(1-\\ln1)=1\\big)$ - точка локального минимума.\n",
    "\n"
   ]
  },
  {
   "cell_type": "code",
   "execution_count": 46,
   "id": "10d32dee",
   "metadata": {},
   "outputs": [
    {
     "data": {
      "text/plain": [
       "1.0"
      ]
     },
     "execution_count": 46,
     "metadata": {},
     "output_type": "execute_result"
    }
   ],
   "source": [
    "1-math.log(1)"
   ]
  },
  {
   "cell_type": "markdown",
   "id": "ab8974cd",
   "metadata": {},
   "source": [
    "$$f''(x)=\\big(-(x^-1)\\big)'=x^{-2}=\\frac{1}{x^2};$$\n",
    "$f''(x)$ нигде не равна нулю и везде на $D(f)$ существует и $f''(x)>0$ всюду больше нуля; Значит точек перегиба нет, график функции $f(x)$ выпуклый вниз (вогнутый)."
   ]
  },
  {
   "cell_type": "code",
   "execution_count": 47,
   "id": "95b854d9",
   "metadata": {},
   "outputs": [
    {
     "data": {
      "image/png": "[encoded data removed]",
      "text/plain": [
       "<Figure size 1080x576 with 1 Axes>"
      ]
     },
     "metadata": {},
     "output_type": "display_data"
    }
   ],
   "source": [
    "x4 = np.linspace(1e-6,15, 1024)\n",
    "y4 = [(elem-math.log(elem)) for elem in x4]\n",
    "plt.figure(figsize=(15, 8), facecolor='g')\n",
    "plt.plot(x4, y4, color='b')\n",
    "plt.grid()\n",
    "plt.show()"
   ]
  }
 ],
 "metadata": {
  "kernelspec": {
   "display_name": "Python 3 (ipykernel)",
   "language": "python",
   "name": "python3"
  },
  "language_info": {
   "codemirror_mode": {
    "name": "ipython",
    "version": 3
   },
   "file_extension": ".py",
   "mimetype": "text/x-python",
   "name": "python",
   "nbconvert_exporter": "python",
   "pygments_lexer": "ipython3",
   "version": "3.9.4"
  }
 },
 "nbformat": 4,
 "nbformat_minor": 5
}
