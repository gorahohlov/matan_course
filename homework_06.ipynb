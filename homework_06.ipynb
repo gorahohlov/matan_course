{
 "cells": [
  {
   "cell_type": "markdown",
   "id": "05c2c211",
   "metadata": {},
   "source": [
    "### 1) Найти производные указанных функций:"
   ]
  },
  {
   "cell_type": "markdown",
   "id": "55cd9d47",
   "metadata": {},
   "source": [
    "##### 1. $$y=x^3log_2x;$$"
   ]
  },
  {
   "cell_type": "markdown",
   "id": "ffe66153",
   "metadata": {},
   "source": [
    "воспользуемся формулой для произведения:\n",
    "\n",
    "$$y'=(x^3log_2x)'=3x^2\\cdot\\log_2x+\\frac{x^3}{x\\ln2};$$"
   ]
  },
  {
   "cell_type": "markdown",
   "id": "6c34cdc8",
   "metadata": {},
   "source": [
    "##### 2. $$y=-10\\arctan x+7e^x$$"
   ]
  },
  {
   "cell_type": "markdown",
   "id": "a687c7de",
   "metadata": {},
   "source": [
    "$$y'=\\frac{dy}{dx}(-10\\arctan x+7e^x)=\\frac{-10}{1+x^2}+7e^x;$$"
   ]
  },
  {
   "cell_type": "markdown",
   "id": "7d50d846",
   "metadata": {},
   "source": [
    "##### 3. $$y=\\frac{1}{\\sqrt[3]x^2}-\\frac{2}{x^3}+\\sqrt7\\cdot x;$$"
   ]
  },
  {
   "cell_type": "markdown",
   "id": "11413f6a",
   "metadata": {},
   "source": [
    "$$y'=\\frac{dy}{dx}\\Bigg(\\frac{1}{\\sqrt[3]x^2}-\\frac{2}{x^3}+\\sqrt7\\cdot x\\Bigg)=\\frac{dy}{dx}\\big(x^{-\\frac{2}{3}}-2x^{-3}+\\sqrt7\\cdot x\\big)=-\\frac{2}{3}x^{-\\frac{5}{3}}+6x^{-4}+\\sqrt7;$$"
   ]
  },
  {
   "cell_type": "markdown",
   "id": "a6b39e94",
   "metadata": {},
   "source": [
    "##### 4. $$y=\\cos\\Bigg(\\frac{1-\\sqrt{x}}{1+\\sqrt{x}}\\Bigg);$$"
   ]
  },
  {
   "cell_type": "markdown",
   "id": "25058fea",
   "metadata": {},
   "source": [
    "нужно использовать правило дифференцирования для сложной функции:\n",
    "$$y'=\\frac{dy}{dx}\\Bigg(\\cos\\Bigg(\\frac{1-\\sqrt{x}}{1+\\sqrt{x}}\\Bigg)\\Bigg)=\\Bigg(-\\sin\\Bigg(\\frac{1-\\sqrt{x}}{1+\\sqrt{x}}\\Bigg)\\cdot \\Bigg(\\frac{1-\\sqrt{x}}{1+\\sqrt{x}}\\Bigg)'\\Bigg)=\\Bigg(-\\sin\\Bigg(\\frac{1-\\sqrt{x}}{1+\\sqrt{x}}\\Bigg)\\cdot \\Bigg(\\frac{\\Big(-\\frac{1}{2\\sqrt{x}}\\Big)\\cdot \\Big(1+\\sqrt{x}\\Big)-\\Big(-\\frac{1}{2\\sqrt{x}}\\Big)\\cdot\\Big(1-\\sqrt{x}\\Big)}{\\Big(1+\\sqrt{x}\\Big)^2}\\Bigg)\\Bigg)=\\sin\\Bigg(\\frac{1-\\sqrt{x}}{1+\\sqrt{x}}\\Bigg)\\cdot \\frac{1}{\\sqrt{x}\\big(1+\\sqrt{x}\\big)^2};$$"
   ]
  },
  {
   "cell_type": "markdown",
   "id": "64a7661d",
   "metadata": {},
   "source": [
    "##### 5. $$y=e^{\\sinh^2(5x)}=\\exp(\\sinh^2(5x));$$"
   ]
  },
  {
   "cell_type": "markdown",
   "id": "5920ffec",
   "metadata": {},
   "source": [
    "$$y'=\\exp(\\sinh^2(5x))'\\cdot (\\sinh^2(5x))'=\\exp(\\sinh^2(5x))\\cdot 2\\sinh(5x)\\cdot \\cosh(5x)\\cdot 5=5\\sinh(10x)\\cdot \\exp(\\sinh^2(5x));$$"
   ]
  },
  {
   "cell_type": "markdown",
   "id": "6e2f6093",
   "metadata": {},
   "source": [
    "##### 6. $$y=\\ln\\frac{(x+1)(x+3)^3}{(x+2)^3(x+4)};$$"
   ]
  },
  {
   "cell_type": "markdown",
   "id": "1427e136",
   "metadata": {},
   "source": [
    "$$y'=(\\ln\\frac{(x+1)(x+3)^3}{(x+2)^3(x+4)})'=\\ln(x+1)+3\\ln(x+3)-3\\ln(x+2)-\\ln(x+4)=\\frac{1}{(x+1)}+\\frac{3}{(x+3)}-\\frac{3}{(x+2)}-\\frac{1}{(x+4)};$$"
   ]
  },
  {
   "cell_type": "markdown",
   "id": "3b860fe7",
   "metadata": {},
   "source": [
    "##### 7. $$y=\\frac{\\sin^2x}{\\cot x+1}+\\frac{\\cos^2x}{\\tan x+1};$$"
   ]
  },
  {
   "cell_type": "markdown",
   "id": "ad3d3e16",
   "metadata": {},
   "source": [
    "$$y=\\frac{\\sin^2x}{\\cot x+1}+\\frac{\\cos^2x}{\\tan x+1}=\\frac{2\\sin x\\cdot \\cos x(\\cot x+1)-\\frac{-1}{\\sin^2x}\\cdot \\sin^2x}{(\\cot x+1)^2}+\\frac{2\\cos x\\cdot -\\sin x \\cdot (\\tan x +1)-\\cos^2x\\cdot\\frac{1}{\\cos^2x}}{(\\tan x+1)^2}=\\frac{\\sin 2x\\cdot (\\cot x+1)+1}{(\\cot x+1)^2}-\\frac{\\sin2x\\cdot(\\tan x+1)+1}{(\\tan x+1)^2}=\\frac{2\\cos^2x+\\sin{2x}+1}{(\\cot{x}+1)^2}-\\frac{2\\sin^2x+\\sin2x+1}{(\\tan{x}+1)^2};$$"
   ]
  },
  {
   "cell_type": "markdown",
   "id": "4ea3251d",
   "metadata": {},
   "source": [
    "### 2) Найти производную функции в точке."
   ]
  },
  {
   "cell_type": "markdown",
   "id": "bf4c9e59",
   "metadata": {},
   "source": [
    "#####  1. $$y=\\frac{\\ln{x}}{x}, x_0=e;$$"
   ]
  },
  {
   "cell_type": "markdown",
   "id": "81cb5299",
   "metadata": {},
   "source": [
    "$$\\frac{dy}{dx}=\\frac{(\\ln{x})'\\cdot x-\\ln{x}\\cdot1}{x^2}=\\frac{1-\\ln{x}}{x^2};$$\n",
    "$$f'(e)=\\frac{1-\\ln{e}}{e^2}=0;$$"
   ]
  },
  {
   "cell_type": "markdown",
   "id": "a6987d11",
   "metadata": {},
   "source": [
    "##### 2. $$y=\\frac{\\sqrt x}{\\sqrt x+1}, x_0=9.$$"
   ]
  },
  {
   "cell_type": "markdown",
   "id": "cbe92b9d",
   "metadata": {},
   "source": [
    "$$y'=\\Big(\\frac{\\sqrt x}{\\sqrt x+1}\\Big)'=\\Big(1-\\frac{1}{\\sqrt{x}+1}\\Big)'=(1)'-\\Big(\\big(x^\\frac{1}{2}+1\\big)^{-1}\\Big)'=0+\\big(x^\\frac{1}{2}+1\\big)^{-2}\\cdot \\frac{1}{2}\\cdot x^{-\\frac{1}{2}}=\\frac{1}{2\\sqrt{x}(\\sqrt{x}+1)^2};$$\n",
    "$$y'(9)=\\frac{1}{2\\sqrt9(\\sqrt9+1)^2}=\\frac{1}{96}$$"
   ]
  },
  {
   "cell_type": "markdown",
   "id": "a9b039fd",
   "metadata": {},
   "source": [
    "### 3) Используя логарифмическую производную, найти производные функций:"
   ]
  },
  {
   "cell_type": "markdown",
   "id": "8009d0c8",
   "metadata": {},
   "source": [
    "##### 1. $$y=x^{\\ln x};$$"
   ]
  },
  {
   "cell_type": "markdown",
   "id": "62910dbc",
   "metadata": {},
   "source": [
    "$$\\frac{y'}{y}=\\big(\\ln(x^{\\ln x})\\big)'=\\big(\\ln x \\cdot \\ln x\\big)'=(\\ln^2x)' \\Rightarrow y'=y\\cdot(\\ln^2x)'=2\\ln x\\cdot\\frac{1}{x}\\cdot1\\cdot x^{\\ln x}=2\\cdot \\ln x\\cdot x^{(\\ln x-1)};$$"
   ]
  },
  {
   "cell_type": "markdown",
   "id": "336774fc",
   "metadata": {},
   "source": [
    "##### 2. $$y=\\frac{(x^3-2)\\cdot\\sqrt[3]{(x-1)}}{(x+5)^4}$$"
   ]
  },
  {
   "cell_type": "markdown",
   "id": "1a9d0ce6",
   "metadata": {},
   "source": [
    "$$\\frac{y'}{y}=\\Bigg(\\ln\\Big(\\frac{(x^3-2)\\cdot\\sqrt[3]{(x-1)}}{(x+5)^4}\\Big)\\Bigg)'=\\Bigg(\\ln(x^3-2)+\\frac{1}{3}\\cdot\\ln(x-1)-4\\ln(x+5)\\Bigg)'=\\frac{3x^2}{(x^3-2)}+\\frac{1}{3\\cdot (x-1)}-\\frac{-4}{(x+5)};\\Rightarrow$$"
   ]
  },
  {
   "cell_type": "markdown",
   "id": "a10d2b07",
   "metadata": {},
   "source": [
    "$$y'=\\frac{3x^2\\cdot \\sqrt[3]{(x-1)}}{(x+5)^4}+\\frac{(x^3-2)\\cdot\\sqrt[3]{(x-1)}}{3\\cdot(x+5)^4\\cdot(x-1)}+\\frac{4\\cdot(x^3-2)\\cdot\\sqrt[3]{(x-1)}}{(x+5)^5};$$"
   ]
  },
  {
   "cell_type": "markdown",
   "id": "836aea0c",
   "metadata": {},
   "source": [
    "##### 3. $$y=(\\tan x)^{\\cos x}$$"
   ]
  },
  {
   "cell_type": "markdown",
   "id": "d5f53133",
   "metadata": {},
   "source": [
    "$$\\frac{y'}{y}=\\Big(\\ln\\big((\\tan{x})^{\\cos x}\\big)\\Big)'=\\Big(\\cos x\\ln(\\tan x)\\Big)'=-\\sin{x}\\cdot\\ln(\\tan{x})+\\cos{x}\\cdot\\frac{1}{\\tan{x}}\\cdot\\frac{1}{\\cos^2x}=\\frac{1}{\\sin x}-\\sin{x}\\cdot\\ln(\\tan{x})=\\frac{1-\\sin^2{x}\\cdot\\ln(\\tan{x})}{\\sin{x}}; \\Rightarrow$$"
   ]
  },
  {
   "cell_type": "markdown",
   "id": "8e7b257f",
   "metadata": {},
   "source": [
    "$$y'=\\frac{1-\\sin^2{x}\\cdot\\ln(\\tan{x})}{\\sin{x}}\\cdot\\big(\\tan{x}\\big)^{\\cos{x}};$$"
   ]
  },
  {
   "cell_type": "markdown",
   "id": "e6f34eae",
   "metadata": {},
   "source": [
    "### 4) Найти производную неявно заданной функции:"
   ]
  },
  {
   "cell_type": "markdown",
   "id": "b223e76f",
   "metadata": {},
   "source": [
    "##### 1.$$e^{xy}-\\cos(x^2+y^2)=0$$"
   ]
  },
  {
   "cell_type": "markdown",
   "id": "56c8dde0",
   "metadata": {},
   "source": [
    "$$\\big(\\exp(xy)\\big)'=\\big(\\cos(x^2+y^2)\\big)'$$\n",
    "$$\\exp(xy)\\cdot(xy)'=-sin(x^2+y^2)\\cdot(2x+2yy')$$\n",
    "$$\\exp(xy)\\cdot (x'y+xy')=-sin(x^2+y^2)\\cdot(2x+2yy')$$\n",
    "$$y\\cdot\\exp(xy)+y'\\cdot x\\cdot\\exp(xy)=-2x\\cdot\\sin(x^2+y^2)-2y\\cdot\\sin(x^2+y^2)\\cdot y'$$\n",
    "$$y'\\cdot x\\cdot\\exp(xy)+2y\\cdot\\sin(x^2+y^2)\\cdot y'=-2x\\cdot\\sin(x^2+y^2)-y\\cdot\\exp(xy)$$\n",
    "$$y'=-\\frac{2x\\cdot\\sin(x^2+y^2)+y\\cdot\\exp(xy)}{x\\cdot\\exp(xy)+2y\\cdot\\sin(x^2+y^2)};$$"
   ]
  },
  {
   "cell_type": "markdown",
   "id": "d9e8f6f4",
   "metadata": {},
   "source": [
    "##### 2. $$x\\sin{y}+y\\sin{x}=0$$"
   ]
  },
  {
   "cell_type": "markdown",
   "id": "cf0d8263",
   "metadata": {},
   "source": [
    "$$x'\\sin{y}+x\\cos{y}\\cdot{y}'+y'\\cdot\\sin{x}+y\\cdot\\cos{x}=0$$\n",
    "$$\\sin{y}+{y}'(x\\cdot\\cos{y}+\\sin{x})+y\\cdot\\cos{x}=0$$\n",
    "$$y'=-\\frac{y\\cdot\\cos{x}+\\sin{y}}{x\\cdot\\cos{y}+\\sin{x}};$$"
   ]
  },
  {
   "cell_type": "markdown",
   "id": "cc68f82c",
   "metadata": {},
   "source": [
    "### 5) Найти производную для функций заданных параметрически:"
   ]
  },
  {
   "cell_type": "markdown",
   "id": "d07632a2",
   "metadata": {},
   "source": [
    "##### 1. $$x=t^3+t, y=t^2+t+1;$$"
   ]
  },
  {
   "cell_type": "markdown",
   "id": "8b2697fd",
   "metadata": {},
   "source": [
    "$$y'_x=\\frac{y'_t}{x'_t}=\\frac{2t+1}{3t^2+1}$$"
   ]
  },
  {
   "cell_type": "markdown",
   "id": "1f7d7d28",
   "metadata": {},
   "source": [
    "#####  2. $$x=e^t\\sin{t}, y=e^t\\cos{t}.$$"
   ]
  },
  {
   "cell_type": "markdown",
   "id": "147d249f",
   "metadata": {},
   "source": [
    "$$y'_x=\\frac{y'_t}{x'_t}=\\frac{\\exp{t}\\cdot\\cos{t}-\\exp{t}\\cdot\\sin{t}}{\\exp{t}\\cdot\\sin{t}+\\exp{t}\\cdot\\cos{t}}=\\frac{\\cos{t}-\\sin{t}}{\\cos{t}+\\sin{t}};$$"
   ]
  },
  {
   "cell_type": "markdown",
   "id": "19deed8f",
   "metadata": {},
   "source": [
    "### 6) Найти уравление касательной и нормали к данной кривой в точке $x_0$:"
   ]
  },
  {
   "cell_type": "markdown",
   "id": "a8f5c094",
   "metadata": {},
   "source": [
    "##### 1. $$y=e^x, x_0=0;$$"
   ]
  },
  {
   "cell_type": "markdown",
   "id": "39c9333b",
   "metadata": {},
   "source": [
    "$y_0=e^0=1; (x_0, y_0)=(0, 1);$ Уравение касательной имеет вид: $(y-y_0)=y(x_0)'(x-x_0);$ далее имеем: $(y-1)=e^x(x-0) \\Rightarrow y=e^0x+1=x+1;$\n",
    "\n",
    "Уравнение касательной: $$y=x+1;$$"
   ]
  },
  {
   "cell_type": "markdown",
   "id": "e00030e2",
   "metadata": {},
   "source": [
    "Нормаль перепендикулярна касательной; это значит что угол $\\alpha$ к оси Ox у нормали должен составлять: $\\pi-\\big(\\frac{\\pi}{2}-\\alpha\\big)=\\frac{\\pi}{2}+\\alpha; \\Rightarrow \\tan(\\frac{\\pi}{2}+\\alpha)=-\\cot{\\alpha}=-\\frac{1}{\\tan(\\alpha)}=-\\frac{1}{f'(x_0)};$\n",
    "Уравнение нормали к касательной имеет вид: $(y-y_0)=-\\frac{1}{f'(x_0)}(x-x_0)$;\n",
    "\n",
    "$y-1=-\\frac{1}{1}x+0=-x+1;$\n",
    "\n",
    "Уравнение искомой кривой (нормали): $$y=1-x$$"
   ]
  },
  {
   "cell_type": "markdown",
   "id": "14f266d1",
   "metadata": {},
   "source": [
    "### 7) Найти производные указанных порядков для следуюищх функций:"
   ]
  },
  {
   "cell_type": "markdown",
   "id": "3d25fd08",
   "metadata": {},
   "source": [
    "##### 1. $$y=-x\\cdot\\cos{x}, y''=?$$"
   ]
  },
  {
   "cell_type": "markdown",
   "id": "eefeaa6f",
   "metadata": {},
   "source": [
    "$y'=-\\cos{x}-x\\cdot (-\\sin{x})=x\\cdot \\sin{x}-\\cos{x};$\n",
    "\n",
    "$y''=\\big(x\\cdot\\sin{x}-\\cos{x}\\big)'=-(-\\sin{x})+\\sin{x}+x\\cdot \\cos{x}=2\\cdot \\sin{x}+x\\cdot \\cos{x};$"
   ]
  },
  {
   "cell_type": "markdown",
   "id": "41f3e8f2",
   "metadata": {},
   "source": [
    "##### 2. $$y=e^{2x}, y^{(5)}=?$$"
   ]
  },
  {
   "cell_type": "markdown",
   "id": "1660342f",
   "metadata": {},
   "source": [
    "$y'=2\\cdot e^{2x};$\n",
    "\n",
    "$y''=(2\\cdot e^{2x})'=2^2\\cdot e^{2x};$\n",
    "\n",
    "$y'''=(2^2\\cdot e^{2x})'=2^3\\cdot e^{2x};$\n",
    "\n",
    "$y^{(4)}=2^4\\cdot e^{2x};$\n",
    "\n",
    "$y^{(5)}=2^5\\cdot e^{2x};$"
   ]
  },
  {
   "cell_type": "markdown",
   "id": "14fd3432",
   "metadata": {},
   "source": [
    "##### 3. $$y=\\ln(1+x), y^{(n)}=?$$"
   ]
  },
  {
   "cell_type": "markdown",
   "id": "fa9392f9",
   "metadata": {},
   "source": [
    "$y'=\\frac{(1+x)'}{(1+x)}=\\frac{1}{(1+x)}=1\\cdot(1+x)^{-1};$\n",
    "\n",
    "$y''=\\big(\\frac{1}{1+x}\\big)=\\big((1+x)^{-1}\\big)'=-1\\cdot(1+x)^{-2};$\n",
    "\n",
    "$y'''=+1\\cdot 2\\cdot (1+x)^{-3};$\n",
    "\n",
    "$y^{(4)}=-1\\cdot 2\\cdot 3\\cdot (1+x)^{-4};$\n",
    "\n",
    "$y^{(5)}=+1\\cdot2\\cdot3\\cdot4\\cdot(1+x)^{-5};$\n",
    "\n",
    "$y^{(n)}=(-1)^{(n-1)}\\cdot(n-1)!\\cdot(1+x)^{(-n)};$"
   ]
  }
 ],
 "metadata": {
  "kernelspec": {
   "display_name": "Python 3 (ipykernel)",
   "language": "python",
   "name": "python3"
  },
  "language_info": {
   "codemirror_mode": {
    "name": "ipython",
    "version": 3
   },
   "file_extension": ".py",
   "mimetype": "text/x-python",
   "name": "python",
   "nbconvert_exporter": "python",
   "pygments_lexer": "ipython3",
   "version": "3.9.4"
  }
 },
 "nbformat": 4,
 "nbformat_minor": 5
}
