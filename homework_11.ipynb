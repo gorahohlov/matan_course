{
 "cells": [
  {
   "cell_type": "markdown",
   "id": "18bef5bd",
   "metadata": {},
   "source": [
    "### __1. Решить диффуры:__"
   ]
  },
  {
   "cell_type": "markdown",
   "id": "3026b6c4",
   "metadata": {},
   "source": [
    "##### 1) $$y'-y=2x-3;$$"
   ]
  },
  {
   "cell_type": "markdown",
   "id": "e4abac89",
   "metadata": {},
   "source": [
    "имеем диффур первого порядка в виде разрешенным относительно производной.\n",
    "$$y'=y+2x-3;$$\n",
    "это уравнение вида $y'=f(ax+by+c)$ и его можно свести к уравнениям с _разделяющимися переменными_ путем замены переменной;\n",
    "$ax+by+c = u;\\quad (y+2x-3) = u;$\n",
    "имеем \n",
    "$$u'=y'+2,\\quad \\frac{du}{dx}=y'+2=u+2;\\quad \\frac{du}{u+2}=dx;\\quad \\int \\frac{du}{u+2}=\\int dx;\\quad \\ln|u+2|-x = c;\\quad \\ln|y+2x-1|-x = c;\\quad y+2x-1 = e^{x+c} = e^x\\cdot e^c=e^x\\tilde c;$$\n",
    "Общий интеграл ДУ:\n",
    "$$\\ln|y+2x-1| =c+x ,\\quad y = 1-2x+ e^{x}\\cdot \\tilde c;$$"
   ]
  },
  {
   "cell_type": "markdown",
   "id": "27efc880",
   "metadata": {},
   "source": [
    "это уравнение является линейным, попробую решить его методом Лагранжа.\n",
    "Это уравнение неоднородное и уже представлено в требуемом виде $y' +p(x)\\cdot y = g(x);$\n",
    "Решим его приравняв правую часть к нулю: \n",
    "$$y'-y=0;\\quad y'=y,\\quad \\frac{dy}{y}=dx,\\quad \\int \\frac{dy}{y} = \\int dx;\\quad \\ln|y|=x+c_1;\\quad y=e^x\\cdot e^{c_1}=e^x\\cdot c;$$\n",
    "представим константу $c$ как функцию от $x \\Rightarrow c(x)$ и вычислим её подставив в исходное уравнение; \n",
    "\n",
    "$y'=e^x\\cdot c(x) + c'(x)\\cdot e^x;$ имеем\n",
    "$$e^x\\cdot c(x) + c'(x)\\cdot e^x -e^x\\cdot c(x)=2x-3,\\quad \\Rightarrow e^x\\cdot c'(x)=2x-3,\\quad \\frac{dc}{dx} = \\frac{2x-3}{e^x},\\quad \\int dc = c(x) = \\int \\frac{2x-3}{e^x}dx = \\int (2x-3)\\cdot e^{-x}dx;$$\n",
    "для взятия этого интеграла воспользуемся методом интегрирования по частаям:\n",
    "$$c(x) = \\int (2x-3)\\cdot e^{-x}dx = \\Big|(2x-3)=u,\\; du=2dx,\\; dv=e^{-x}dx,\\; v=-e^{-x}\\; \\Big| = \\\\ =-\\frac{2x-3}{e^{x}} + 2 \\int e^{-x}dx = \\frac{1-2x}{e^x}+\\tilde c;$$\n",
    "подставляем этот результат в полученное выражение для $y$:\n",
    "$$y=e^x\\cdot \\Bigg[\\frac{1-2x}{e^x} + \\tilde c \\Bigg] = 1-2x + e^x\\cdot \\tilde c = 1-2x+e^{x+c};$$"
   ]
  },
  {
   "cell_type": "markdown",
   "id": "bf9b7d39",
   "metadata": {},
   "source": [
    "##### 2) $$x^2y'+xy+1=0;$$"
   ]
  },
  {
   "cell_type": "markdown",
   "id": "5a384d2a",
   "metadata": {},
   "source": [
    "Это уравнение не является однородным, не является уравнением с разделяющимися переменными и не сводимое к такому подставновкой (заменой) переменной. Оно является линейным ДУ первого порядка. Решим его методом Лагранжа.\n",
    "Представим его в виде $y'+p(x)\\cdot y=g(x)$, для этого разделим на $x^2 \\neq 0$\n",
    "\n",
    "имеем\n",
    "$$y'+\\frac{1}{x}\\cdot y = -\\frac{1}{x^2}$$\n",
    "решим уравнение приравняв его левую часть к нулю $$y'+\\frac{y}{x}=0;\\quad \\frac{dy}{dx}=-\\frac{y}{x};\\quad \\int \\frac{dy}{y} = \\int -\\frac{dx}{x},\\quad \\ln|y|=c_1 -\\ln|x|;$$\n",
    "Поскольку константа произвольная величина и учитывая, что область значений логарифма вся числовая ось, будет корректна замена $c_1=\\ln{|c|}$ получаем \n",
    "$$\\ln|y|=\\ln{|c|}-\\ln|x|=\\ln{\\Big|\\frac{c}{x}\\Big|},\\quad y=\\frac{c}{x};$$\n",
    "положим $y=\\frac{c(x)}{x}$, вычислим \n",
    "$$y'=\\frac{c'(x)x-c(x)}{x^2}$$\n",
    "изначальное уравнение принимает вид: \n",
    "$$\\frac{c'(x)x-c(x)}{x^2}+\\frac{c(x)}{x^2}=-\\frac{1}{x^2},\\quad \\Rightarrow c'(x)=-\\frac{1}{x},\\quad d\\ c(x)=-\\frac{dx}{x},\\quad \\int d\\ c(x)=\\int-\\frac{dx}{x};\\quad \\Rightarrow c(x)=-\\ln|x|+\\tilde c,\\quad \\Rightarrow$$ \n",
    "Ответ: $$y=\\frac{-\\ln|x|+\\tilde c}{x};$$"
   ]
  },
  {
   "cell_type": "markdown",
   "id": "556f73c2",
   "metadata": {},
   "source": [
    "### __2. Исследовать ряды на сходимость.__"
   ]
  },
  {
   "cell_type": "markdown",
   "id": "1847b4af",
   "metadata": {},
   "source": [
    "##### $$\\sum_{n=1}^\\infty = \\frac{n+2}{n^2+n+1};$$"
   ]
  },
  {
   "cell_type": "markdown",
   "id": "caf215f7",
   "metadata": {},
   "source": [
    "вычислим предел общего члена ряда при $n\\to \\infty:$\n",
    "$$\\lim_{n\\to \\infty} \\frac{n+2}{n^2+n+1} = \\lim_{n\\to \\infty} \\frac{\\frac{n}{n^2}+\\frac{2}{n^2}}{\\frac{n^2}{n^2}+\\frac{n}{n^2}+\\frac{1}{n^2}} = \\frac{0+0}{1+0+0}=\\frac{0}{1} = 0;$$\n",
    "необходимое условие сходимости выполняется, но этого не достаточно чтобы утверждать что ряд сходится."
   ]
  },
  {
   "cell_type": "markdown",
   "id": "dbb26f1a",
   "metadata": {},
   "source": [
    "вычислим предел чтобы применить признак Даламбера:\n",
    "$$\\lim_{n\\to\\infty} \\frac{a_{n+1}}{a_n}= \\lim_{n\\to\\infty} \\frac{n+3}{(n+1)^2+n+2} \\div \\frac{n+2}{n^2+n+1} = \\frac{(n+3)\\cdot(n^2+n+1))}{(n+2)\\cdot(n^2+3n+3))} = \\lim_{n\\to\\infty} \\frac{n^3+4n^2+4n+3}{n^3+5n^2+9n+6}=\\frac{1+4n^{-1}+4n^{-2}+3n^{-3}}{1+5n^{-1}+9n^{-2}+6n^{-3}}=\\frac{1}{1} = 1;$$"
   ]
  },
  {
   "cell_type": "markdown",
   "id": "e1e34f6a",
   "metadata": {},
   "source": [
    "предел отношения равен единице (1), мы не можем использовать признак Даламбера для ответа на вопрос о сходимости ряда. Требуется исследовать ряд с помощью других методов."
   ]
  },
  {
   "cell_type": "markdown",
   "id": "115a96ba",
   "metadata": {},
   "source": [
    "Воспользуемся сравнением исходного ряда с рядом Дирихле, используя эквивалентность бесконечно малой последовательности $\\big\\{\\frac{1}{n}\\big\\}$, при $n\\to\\infty$;\n",
    "\n",
    "отбросим единицу в числителе и знаменателе и перейдем к выражению:\n",
    "$$\\frac{(n+1)+1}{n(n+1)+1}\\quad \\Rightarrow \\frac{n+1}{n(n+1)}=\\frac{1}{n};$$\n",
    "мы получили гармонический ряд, который как мы знаем расходится.\n",
    "Гармонический ряд $\\frac{1}{n}$ меньше нашего:\n",
    "$$\\frac{n+2}{n^2+n+1} > \\frac{1}{n};\\quad \\bigg[\\frac{n+2}{n^2+n+1} - \\frac{1}{n}= \\frac{n-1}{n(n^2+n+1)} \\geq 0, n\\in \\mathbb N\\bigg]$$\n",
    "стало быть наш (данный) ряд тем более расходится;"
   ]
  },
  {
   "cell_type": "markdown",
   "id": "e46d475c",
   "metadata": {},
   "source": [
    "так же можно использовать интегральный признак сходимости:\n",
    "вычислим несобственный интеграл:\n",
    "$$\\int_1^\\infty \\frac{x+2}{x^2+x+1}dx= \\frac{1}{2} \\int_1^\\infty \\frac{2x+1+3}{x^2+x+1}dx = \\frac{1}{2} \\int_1^\\infty \\frac{d(x^2+x+1)}{x^2+x+1} + \\frac{3}{2} \\int_1^\\infty \\frac{dx}{(x+\\frac{1}{2})^2+\\Big(\\frac{\\sqrt{3}}{2}\\Big)^2} = \\\\ = \\Bigg(\\frac{1}{2} \\ln|x^2+x+1|+\\frac{3}{2}\\cdot \\frac{2}{\\sqrt{3}} \\arctan\\bigg(\\frac{2x+1}{\\sqrt{3}}\\bigg)\\Bigg) \\Bigg|_1^\\infty= \\\\ = \\lim_{x\\to\\infty} \\Bigg(\\frac{1}{2} \\ln(x^2+x+1) + \\sqrt{3} \\arctan\\bigg(\\frac{2x+1}{\\sqrt{3}}\\bigg)\\Bigg) - \\frac{1}{2}\\cdot \\ln(3) - \\sqrt{3}\\cdot \\arctan(\\sqrt{3}) = \\infty;$$\n",
    "т.к. $\\arctan$ функция ограниченная значением $\\frac{\\pi}{2}$ сверху, а функция логарифма стремится к бесконечности, если аргумент стремится к бесконечности.\n",
    "Вывод данный в условии задачи числовой ряд расходится!"
   ]
  },
  {
   "cell_type": "code",
   "execution_count": 20,
   "id": "551d59c5",
   "metadata": {
    "collapsed": true
   },
   "outputs": [
    {
     "data": {
      "image/png": "[encoded data removed]",
      "text/plain": [
       "<Figure size 1080x432 with 1 Axes>"
      ]
     },
     "metadata": {},
     "output_type": "display_data"
    }
   ],
   "source": [
    "import numpy as np\n",
    "import matplotlib.pyplot as plt\n",
    "import warnings\n",
    "warnings.filterwarnings('ignore')\n",
    "x = np.linspace(1, 1000, 1000)\n",
    "y = .5 * np.log(x**2 + x + 1)\n",
    "plt.figure(figsize=(15,6), facecolor='w')\n",
    "plt.axis([-10, 1100, -1, 10])\n",
    "plt.plot(x, y, color='red')\n",
    "plt.grid()\n",
    "plt.show()"
   ]
  },
  {
   "cell_type": "markdown",
   "id": "974d015f",
   "metadata": {},
   "source": [
    "##### 2) $$\\sum_{n=1}^\\infty \\frac{n^n}{n!};$$"
   ]
  },
  {
   "cell_type": "markdown",
   "id": "59dacf28",
   "metadata": {},
   "source": [
    "рассмотрим что из себя представляем общий член ряда:\n",
    "$$\\frac{n\\cdot n\\cdot n\\cdot \\;...\\; \\cdot n\\cdot n}{1\\cdot2\\cdot3\\cdot4 \\;...\\; \\cdot (n-1)\\cdot n}$$\n",
    "мы видим что каждый множитель в числителе превосходит (кроме последнего множителя) соответствующий множитель в знаминателе. Стало быть с ростом $n$ общий член ряда (и сам ряд - сумма его членов) бесконечно возрастает:\n",
    "$$\\lim_{n\\to\\infty} \\frac{n^n}{n!} = \\infty;$$\n",
    "Следовательно числовой ряд: \n",
    "$$\\sum_{n=1}^\\infty \\frac{n^n}{n!}$$\n",
    "расходится для $n\\in \\mathbb N$;"
   ]
  },
  {
   "cell_type": "markdown",
   "id": "0b75a38e",
   "metadata": {},
   "source": [
    "##### 3) $$\\sum_{n=1}^\\infty n\\cdot \\bigg(1-\\frac{1}{n}\\bigg)^{n^2}$$"
   ]
  },
  {
   "cell_type": "markdown",
   "id": "fedf687c",
   "metadata": {},
   "source": [
    "вычислим предел ряда при $n\\to \\infty$:\n",
    "$$\\lim_{n\\to\\infty} n\\cdot \\bigg(1-\\frac{1}{n}\\bigg)^{n^2} = \\lim_{n\\to\\infty} n \\cdot \\Bigg(\\lim_{n\\to\\infty} \\Big(1-\\frac{1}{n}\\Big)^n\\Bigg)^n = \\lim_{n\\to\\infty} n \\cdot ((1-0)^n)^n = \\infty;$$\n",
    "\n",
    "Предел главного члена ряда при стремлении его номера к бесконечности стремится к бесконечности. В соответствии с необходимым признаком сходимости можно утверждать, что наш числовой ряд расходится."
   ]
  },
  {
   "cell_type": "markdown",
   "id": "b8234815",
   "metadata": {},
   "source": [
    "##### 4) $$\\sum_{n=1}^\\infty \\frac{(-1)^{n+1}}{2n-\\ln{n}};$$"
   ]
  },
  {
   "cell_type": "markdown",
   "id": "e3913208",
   "metadata": {},
   "source": [
    "Имеем знакопеременный ряд, а конкретнее знакочередующийся ряд."
   ]
  },
  {
   "cell_type": "markdown",
   "id": "325b8c50",
   "metadata": {},
   "source": [
    "вычислим предел последовательности $\\lim_{n\\to\\infty} \\frac{1}{2n-\\ln{n}};$\n",
    "$$\\lim_{n\\to\\infty} \\frac{1}{2n-\\ln{n}} = \\frac{1}{\\infty} = 0$$\n",
    "так как \n",
    "$$\\lim_{n\\to\\infty} (2n-\\ln{n}) = \\infty, n\\in \\mathbb N;$$\n",
    "воспользуемся правилом Лопиталя\n",
    "$$\\lim_{n\\to\\infty} (2n-\\ln{n}) = \\ln \\Big(\\lim_{n\\to\\infty} \\exp(2n-\\ln{n})\\Big) = \\ln \\Big( \\lim_{n\\to\\infty} \\frac{(e^{2n})'}{(n)'} \\Big) = \\ln \\Big( \\lim_{n\\to\\infty} \\frac{2e^{2n}}{1} \\Big) = \\ln{2} + \\lim_{n\\to\\infty} 2n = \\infty$$\n",
    "<font color='green'>__Общий член ряда <u>стремится к нулю</u> при $n\\to\\infty$.__</font>"
   ]
  },
  {
   "cell_type": "markdown",
   "id": "6a566a4f",
   "metadata": {},
   "source": [
    "вычислим разницу абсолютных величин соседних членов ряда, чтобы выяснить их монотонное убывание:\n",
    "\n",
    "$$a_n-a_{n+1} = \\frac{1}{2n-\\ln{n}} - \\frac{1}{2(n+1)-\\ln{(n+1)}}$$\n",
    "сравним знаминатели вычислив их разность:\n",
    "$$\\big(2n-\\ln{n}\\big) - \\big(2n+2-\\ln(n+1)\\big)=\\ln(n+1)-2-\\ln{n}=\\ln(n+1)-\\ln{e^2}-\\ln{n}=\\ln\\bigg[\\frac{n+1}{e^2n}\\bigg] = \\ln\\bigg[\\frac{1}{e^2} \\bigg(1 + \\frac{1}{n}\\bigg)\\bigg];$$\n",
    "выражение в круглых скобках стремится к единице при $n\\to\\infty$, значит выражение в квадратных скобках будет строго больше нуля и строго меньше единицы:\n",
    "$$0< \\frac{1}{e^2} \\bigg(1 + \\frac{1}{n}\\bigg)<1$$\n",
    "значение натурального логарифма будет отрицательным. Следовательно знаменатель $a_n$ члена строго меньше знаменателя $a_{n+1},$ учитывая что члены положительные, имеем: $a_n>a_{n+1}$ \n",
    "\n",
    "<font color='green'><u>Вывод: абсолютные величины членов ряда монотонно убывают.</u></font>"
   ]
  },
  {
   "cell_type": "markdown",
   "id": "57a3e959",
   "metadata": {},
   "source": [
    "На основании признака Лейбница - выполняются оба условия: \n",
    "- монотонное убывание абсолютных величин членов ряда;\n",
    "- общий член ряда стремится к нулю;\n",
    "\n",
    "мы можем утверждать что исходный ряд сходится.\n",
    "\n",
    "_По факту мы имеем последовательность (из членов ряда), которая бесконечно приближаетя к нулю постоянно осциллируя вокруг оси абцисс._"
   ]
  },
  {
   "cell_type": "markdown",
   "id": "05e73298",
   "metadata": {},
   "source": [
    "##### 5) $$\\sum_{n=1}^\\infty \\frac{(x-2)^{n+1}}{3^n(n+2)}.$$"
   ]
  },
  {
   "cell_type": "markdown",
   "id": "0973c919",
   "metadata": {},
   "source": [
    "вычислим модуль отношения $n$-го и $(n+1)$-го члена.\n",
    "$$\\bigg|\\frac{a_{n+1}}{a_n}\\bigg| = \\bigg|\\frac{(x-2)^{n+2}}{3^{n+1}(n+3)} \\div \\frac{(x-2)^{n+1}}{3^n(n+2)} \\bigg| = \\bigg| \\frac{(x-2)^{n+2}}{3^{n+1}(n+3)} \\times \\frac{3^n(n+2)}{(x-2)^{n+1}} \\bigg| = \\frac{(n+2)\\cdot|x-2|}{3\\cdot (n+2)+3} = \\frac{|x-2|}{3+\\frac{3}{n+2}} \\Rightarrow \\\\ \\lim_{n\\to\\infty} \\bigg| \\frac{a_{n+1}}{a_n} \\bigg| = \\lim_{n\\to\\infty} \\frac{|x-2|}{3+\\frac{3}{n+2}} = \\frac{|x-2|}{3} = \\Bigg\\{0,\\; x=2;\\quad \\frac{|x-2|}{3},\\; x\\neq2$$"
   ]
  },
  {
   "cell_type": "markdown",
   "id": "d50025bf",
   "metadata": {},
   "source": [
    "Как видно из результата предела - он не зависит от n; при \n",
    "$$\\frac{|x-2|}{3}<1,\\quad |x-2|<3,\\quad -3<x-2<3,\\quad -3+2<x<3+2,\\quad -1<x<5,$$\n",
    "ряд сходится, т.е. $-1<x<5,\\; \\lim_{n\\to\\infty} \\bigg| \\frac{a_{n+1}}{a_n} \\bigg| <1$ и ряд будет сходящимся. <font color=\"yellow\"><i>Интервал $x\\in]-1;5[$ будет областью сходимости исходного степенного ряда.</i></font> При $x=2$ степенной ряд абсолютно сходится на всей числовой оси.\n",
    "\n",
    "при $-1>x>5,\\; \\lim_{n\\to\\infty} \\bigg| \\frac{a_{n+1}}{a_n} \\bigg| > 1$, ряд будет расходиться."
   ]
  }
 ],
 "metadata": {
  "kernelspec": {
   "display_name": "Python 3 (ipykernel)",
   "language": "python",
   "name": "python3"
  },
  "language_info": {
   "codemirror_mode": {
    "name": "ipython",
    "version": 3
   },
   "file_extension": ".py",
   "mimetype": "text/x-python",
   "name": "python",
   "nbconvert_exporter": "python",
   "pygments_lexer": "ipython3",
   "version": "3.9.4"
  }
 },
 "nbformat": 4,
 "nbformat_minor": 5
}
